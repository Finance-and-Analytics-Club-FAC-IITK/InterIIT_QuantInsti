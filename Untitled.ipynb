{
 "cells": [
  {
   "cell_type": "code",
   "execution_count": 3,
   "id": "c606c216",
   "metadata": {},
   "outputs": [],
   "source": [
    "import pandas as pd\n",
    "import talib\n",
    "import numpy as np\n",
    "import matplotlib as plt\n",
    "import matplotlib.pyplot as plt\n",
    "from scipy.signal import argrelmax\n",
    "from scipy.signal import argrelmin\n",
    "#from mpl_finance import candlestick2_ohlc\n",
    "#from mpl_finance import candlestick_ohlc\n",
    "import matplotlib.dates as mdates\n",
    "import matplotlib.ticker as mticker\n",
    "import yfinance as yf\n",
    "data=yf.Ticker(\"INFY.NS\")\n",
    "df=data.history(period=\"10y\",interval='1d')\n",
    "\n",
    "data1=yf.Ticker(\"SBIN.NS\")\n",
    "df2=data1.history(period=\"1y\")\n",
    "\n",
    "\n",
    "open = df.Open.copy()\n",
    "open2=df2.Open.copy()\n",
    "high = df.High.copy()\n",
    "low = df.Low.copy()\n",
    "close = df.Close.copy()\n",
    "\n",
    "prices = df.Close.copy()\n",
    "\n",
    "a= talib.CDLENGULFING(open, high , low , close)"
   ]
  },
  {
   "cell_type": "code",
   "execution_count": 4,
   "id": "86e5fd2c",
   "metadata": {},
   "outputs": [],
   "source": [
    "cs = -1\n",
    "cr = -1\n",
    "flag = 0\n",
    "\n",
    "\n",
    "buy = []\n",
    "sell = []\n",
    "total = 0 \n",
    "support = []\n",
    "resistance=[]\n",
    "profit =[]\n",
    "for i in range(0,df.shape[0]):\n",
    "    if i<5 :\n",
    "        continue\n",
    "    \n",
    "    a = low[i-4]\n",
    "    b = low[i-3]\n",
    "    c = low[i-2]\n",
    "    d = low[i-1]\n",
    "    e = low[i]\n",
    "    \n",
    "    a2 = high[i-4]\n",
    "    b2 = high[i-3]\n",
    "    c2 = high[i-2]\n",
    "    d2 = high[i-1]\n",
    "    e2 = high[i]\n",
    "    \n",
    "    \n",
    "    if  a2<b2 and b2<c2 and c2>d2 and d2>e2 :\n",
    "        cr=c2\n",
    "    elif  a>b and b>c and c<d and d<e :\n",
    "        cs=c\n",
    "        \n",
    "    resistance.append(cr) \n",
    "    support.append(cs)\n",
    "    \n",
    "    \n",
    "    if cs ==-1 or cr==-1:\n",
    "        continue\n",
    "\n",
    "    if close[i] > cr and flag==0:\n",
    "        flag =1\n",
    "        bp = close[i]\n",
    "        buy.append(i)\n",
    "        #print(cr)\n",
    "\n",
    "    elif close[i] < cs and flag ==1:\n",
    "        flag = 0\n",
    "        sp = close[i]\n",
    "        sell.append(i)\n",
    "        \n",
    "        total += sp-bp\n",
    "        profit.append(total)\n",
    "if flag==1:\n",
    "    total += close[-1]-bp\n",
    "#print(resistance)"
   ]
  },
  {
   "cell_type": "code",
   "execution_count": 5,
   "id": "f6a33ed8",
   "metadata": {},
   "outputs": [
    {
     "data": {
      "text/plain": [
       "2463"
      ]
     },
     "execution_count": 5,
     "metadata": {},
     "output_type": "execute_result"
    }
   ],
   "source": [
    "len(support)"
   ]
  },
  {
   "cell_type": "code",
   "execution_count": 6,
   "id": "3a9e53ed",
   "metadata": {},
   "outputs": [],
   "source": [
    "r_bottoms = []\n",
    "\n",
    "for i in range (0,len(support)) :\n",
    "    if i<5 :\n",
    "        continue\n",
    "    \n",
    "    a3 = support[i-4]\n",
    "    b3 = support[i-3]\n",
    "    c3 = support[i-2]\n",
    "    d3 = support[i-1]\n",
    "    e3 = support[i]\n",
    "    \n",
    "    if a>b and b>c and c<d and d<e  :\n",
    "        r_bottoms.append(c3)"
   ]
  },
  {
   "cell_type": "code",
   "execution_count": 7,
   "id": "647fe9dd",
   "metadata": {},
   "outputs": [
    {
     "data": {
      "text/plain": [
       "0"
      ]
     },
     "execution_count": 7,
     "metadata": {},
     "output_type": "execute_result"
    }
   ],
   "source": [
    "len(r_bottoms)"
   ]
  },
  {
   "cell_type": "code",
   "execution_count": 13,
   "id": "912d01b2",
   "metadata": {},
   "outputs": [
    {
     "name": "stdout",
     "output_type": "stream",
     "text": [
      "Date\n",
      "2013-02-04            NaN\n",
      "2013-02-05            NaN\n",
      "2013-02-06            NaN\n",
      "2013-02-07            NaN\n",
      "2013-02-08            NaN\n",
      "                 ...     \n",
      "2023-01-30    1551.900024\n",
      "2023-01-31    1551.900024\n",
      "2023-02-01    1551.900024\n",
      "2023-02-02    1583.750000\n",
      "2023-02-03    1599.400024\n",
      "Length: 2468, dtype: float64\n"
     ]
    }
   ],
   "source": [
    "print(talib.MAX(df['Close'], 30))"
   ]
  },
  {
   "cell_type": "code",
   "execution_count": 42,
   "id": "96490114",
   "metadata": {},
   "outputs": [],
   "source": [
    "buy = []\n",
    "cb_ = []\n",
    "for i in range(0,df.shape[0]):\n",
    "    if i<60 :\n",
    "        continue\n",
    "    close_ = df[\"Close\"]\n",
    "    close = close_[i-60:i:1]\n",
    "    cb = close.min()\n",
    "    \n",
    "    cbindex = close.argmin()\n",
    "    close_1 = close[cbindex::]\n",
    "    \n",
    "    hs =close_1.max()\n",
    "    hs_index = close_1.argmax()\n",
    "    close_2 = close_1[hs_index::]\n",
    "    hb = close_2.min()\n",
    "\n",
    "    if close_[i] > hs :\n",
    "        buy.append(i)"
   ]
  },
  {
   "cell_type": "code",
   "execution_count": 43,
   "id": "a80be444",
   "metadata": {},
   "outputs": [
    {
     "data": {
      "text/plain": [
       "510"
      ]
     },
     "execution_count": 43,
     "metadata": {},
     "output_type": "execute_result"
    }
   ],
   "source": [
    "len(buy)"
   ]
  },
  {
   "cell_type": "code",
   "execution_count": null,
   "id": "1553e12c",
   "metadata": {},
   "outputs": [],
   "source": []
  }
 ],
 "metadata": {
  "kernelspec": {
   "display_name": "Python 3 (ipykernel)",
   "language": "python",
   "name": "python3"
  },
  "language_info": {
   "codemirror_mode": {
    "name": "ipython",
    "version": 3
   },
   "file_extension": ".py",
   "mimetype": "text/x-python",
   "name": "python",
   "nbconvert_exporter": "python",
   "pygments_lexer": "ipython3",
   "version": "3.9.7"
  }
 },
 "nbformat": 4,
 "nbformat_minor": 5
}
