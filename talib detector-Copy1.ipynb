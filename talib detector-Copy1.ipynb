{
 "cells": [
  {
   "cell_type": "code",
   "execution_count": 38,
   "id": "c5d1985c",
   "metadata": {},
   "outputs": [
    {
     "name": "stdout",
     "output_type": "stream",
     "text": [
      "Requirement already satisfied: candlestick in c:\\users\\krutu\\anaconda3\\lib\\site-packages (0.0.8)\n",
      "Requirement already satisfied: numpy>1 in c:\\users\\krutu\\anaconda3\\lib\\site-packages (from candlestick) (1.20.3)\n",
      "Requirement already satisfied: pandas>1 in c:\\users\\krutu\\anaconda3\\lib\\site-packages (from candlestick) (1.3.4)\n",
      "Requirement already satisfied: pytz>=2017.3 in c:\\users\\krutu\\anaconda3\\lib\\site-packages (from pandas>1->candlestick) (2021.3)\n",
      "Requirement already satisfied: python-dateutil>=2.7.3 in c:\\users\\krutu\\anaconda3\\lib\\site-packages (from pandas>1->candlestick) (2.8.2)\n",
      "Requirement already satisfied: six>=1.5 in c:\\users\\krutu\\anaconda3\\lib\\site-packages (from python-dateutil>=2.7.3->pandas>1->candlestick) (1.16.0)\n"
     ]
    },
    {
     "ename": "ModuleNotFoundError",
     "evalue": "No module named 'candlestick'",
     "output_type": "error",
     "traceback": [
      "\u001b[1;31m---------------------------------------------------------------------------\u001b[0m",
      "\u001b[1;31mModuleNotFoundError\u001b[0m                       Traceback (most recent call last)",
      "\u001b[1;32m~\\AppData\\Local\\Temp/ipykernel_6012/1397799250.py\u001b[0m in \u001b[0;36m<module>\u001b[1;34m\u001b[0m\n\u001b[0;32m      1\u001b[0m \u001b[0mget_ipython\u001b[0m\u001b[1;33m(\u001b[0m\u001b[1;33m)\u001b[0m\u001b[1;33m.\u001b[0m\u001b[0msystem\u001b[0m\u001b[1;33m(\u001b[0m\u001b[1;34m'pip install candlestick'\u001b[0m\u001b[1;33m)\u001b[0m\u001b[1;33m\u001b[0m\u001b[1;33m\u001b[0m\u001b[0m\n\u001b[0;32m      2\u001b[0m \u001b[1;33m\u001b[0m\u001b[0m\n\u001b[1;32m----> 3\u001b[1;33m \u001b[1;32mfrom\u001b[0m \u001b[0mcandlestick\u001b[0m\u001b[1;33m.\u001b[0m\u001b[0mpatterns\u001b[0m\u001b[1;33m.\u001b[0m\u001b[0mcandlestick_finder\u001b[0m \u001b[1;32mimport\u001b[0m \u001b[0mCandlestickFinder\u001b[0m\u001b[1;33m\u001b[0m\u001b[1;33m\u001b[0m\u001b[0m\n\u001b[0m\u001b[0;32m      4\u001b[0m \u001b[1;33m\u001b[0m\u001b[0m\n\u001b[0;32m      5\u001b[0m \u001b[1;33m\u001b[0m\u001b[0m\n",
      "\u001b[1;31mModuleNotFoundError\u001b[0m: No module named 'candlestick'"
     ]
    }
   ],
   "source": [
    "!pip install candlestick\n",
    "\n",
    "from candlestick.patterns.candlestick_finder import CandlestickFinder\n",
    "\n",
    "\n",
    "class BearishEngulfing(CandlestickFinder):\n",
    "    def __init__(self, target=None):\n",
    "        super().__init__(self.get_class_name(), 2, target=target)\n",
    "\n",
    "    def logic(self, idx):\n",
    "        candle = self.data.iloc[idx]\n",
    "        prev_candle = self.data.iloc[idx + 1 * self.multi_coeff]\n",
    "\n",
    "        close = candle[self.close_column]\n",
    "        open = candle[self.open_column]\n",
    "        high = candle[self.high_column]\n",
    "        low = candle[self.low_column]\n",
    "\n",
    "        prev_close = prev_candle[self.close_column]\n",
    "        prev_open = prev_candle[self.open_column]\n",
    "        prev_high = prev_candle[self.high_column]\n",
    "        prev_low = prev_candle[self.low_column]\n",
    "        \n",
    "        return (open >= prev_close > prev_open and\n",
    "                open > close and\n",
    "                prev_open >= close and \n",
    "                open - close > prev_close - prev_open)"
   ]
  },
  {
   "cell_type": "code",
   "execution_count": 12,
   "id": "825a14bc",
   "metadata": {},
   "outputs": [
    {
     "ename": "ValueError",
     "evalue": "Length mismatch: Expected axis has 7 elements, new values have 6 elements",
     "output_type": "error",
     "traceback": [
      "\u001b[1;31m---------------------------------------------------------------------------\u001b[0m",
      "\u001b[1;31mValueError\u001b[0m                                Traceback (most recent call last)",
      "\u001b[1;32m~\\AppData\\Local\\Temp/ipykernel_11012/4112141481.py\u001b[0m in \u001b[0;36m<module>\u001b[1;34m\u001b[0m\n\u001b[0;32m     17\u001b[0m \u001b[1;33m\u001b[0m\u001b[0m\n\u001b[0;32m     18\u001b[0m \u001b[1;31m#List all columns in CSV file\u001b[0m\u001b[1;33m\u001b[0m\u001b[1;33m\u001b[0m\u001b[0m\n\u001b[1;32m---> 19\u001b[1;33m \u001b[0mdf\u001b[0m\u001b[1;33m.\u001b[0m\u001b[0mcolumns\u001b[0m \u001b[1;33m=\u001b[0m \u001b[1;33m[\u001b[0m\u001b[1;34m'date'\u001b[0m\u001b[1;33m,\u001b[0m \u001b[1;34m'open'\u001b[0m\u001b[1;33m,\u001b[0m \u001b[1;34m'high'\u001b[0m\u001b[1;33m,\u001b[0m \u001b[1;34m'low'\u001b[0m\u001b[1;33m,\u001b[0m \u001b[1;34m'close'\u001b[0m\u001b[1;33m,\u001b[0m \u001b[1;34m'volume'\u001b[0m\u001b[1;33m]\u001b[0m\u001b[1;33m\u001b[0m\u001b[1;33m\u001b[0m\u001b[0m\n\u001b[0m\u001b[0;32m     20\u001b[0m \u001b[1;33m\u001b[0m\u001b[0m\n\u001b[0;32m     21\u001b[0m \u001b[1;31m#Set index values (0, 1, 2...) as a Date Value\u001b[0m\u001b[1;33m\u001b[0m\u001b[1;33m\u001b[0m\u001b[0m\n",
      "\u001b[1;32m~\\anaconda3\\lib\\site-packages\\pandas\\core\\generic.py\u001b[0m in \u001b[0;36m__setattr__\u001b[1;34m(self, name, value)\u001b[0m\n\u001b[0;32m   5498\u001b[0m         \u001b[1;32mtry\u001b[0m\u001b[1;33m:\u001b[0m\u001b[1;33m\u001b[0m\u001b[1;33m\u001b[0m\u001b[0m\n\u001b[0;32m   5499\u001b[0m             \u001b[0mobject\u001b[0m\u001b[1;33m.\u001b[0m\u001b[0m__getattribute__\u001b[0m\u001b[1;33m(\u001b[0m\u001b[0mself\u001b[0m\u001b[1;33m,\u001b[0m \u001b[0mname\u001b[0m\u001b[1;33m)\u001b[0m\u001b[1;33m\u001b[0m\u001b[1;33m\u001b[0m\u001b[0m\n\u001b[1;32m-> 5500\u001b[1;33m             \u001b[1;32mreturn\u001b[0m \u001b[0mobject\u001b[0m\u001b[1;33m.\u001b[0m\u001b[0m__setattr__\u001b[0m\u001b[1;33m(\u001b[0m\u001b[0mself\u001b[0m\u001b[1;33m,\u001b[0m \u001b[0mname\u001b[0m\u001b[1;33m,\u001b[0m \u001b[0mvalue\u001b[0m\u001b[1;33m)\u001b[0m\u001b[1;33m\u001b[0m\u001b[1;33m\u001b[0m\u001b[0m\n\u001b[0m\u001b[0;32m   5501\u001b[0m         \u001b[1;32mexcept\u001b[0m \u001b[0mAttributeError\u001b[0m\u001b[1;33m:\u001b[0m\u001b[1;33m\u001b[0m\u001b[1;33m\u001b[0m\u001b[0m\n\u001b[0;32m   5502\u001b[0m             \u001b[1;32mpass\u001b[0m\u001b[1;33m\u001b[0m\u001b[1;33m\u001b[0m\u001b[0m\n",
      "\u001b[1;32m~\\anaconda3\\lib\\site-packages\\pandas\\_libs\\properties.pyx\u001b[0m in \u001b[0;36mpandas._libs.properties.AxisProperty.__set__\u001b[1;34m()\u001b[0m\n",
      "\u001b[1;32m~\\anaconda3\\lib\\site-packages\\pandas\\core\\generic.py\u001b[0m in \u001b[0;36m_set_axis\u001b[1;34m(self, axis, labels)\u001b[0m\n\u001b[0;32m    764\u001b[0m     \u001b[1;32mdef\u001b[0m \u001b[0m_set_axis\u001b[0m\u001b[1;33m(\u001b[0m\u001b[0mself\u001b[0m\u001b[1;33m,\u001b[0m \u001b[0maxis\u001b[0m\u001b[1;33m:\u001b[0m \u001b[0mint\u001b[0m\u001b[1;33m,\u001b[0m \u001b[0mlabels\u001b[0m\u001b[1;33m:\u001b[0m \u001b[0mIndex\u001b[0m\u001b[1;33m)\u001b[0m \u001b[1;33m->\u001b[0m \u001b[1;32mNone\u001b[0m\u001b[1;33m:\u001b[0m\u001b[1;33m\u001b[0m\u001b[1;33m\u001b[0m\u001b[0m\n\u001b[0;32m    765\u001b[0m         \u001b[0mlabels\u001b[0m \u001b[1;33m=\u001b[0m \u001b[0mensure_index\u001b[0m\u001b[1;33m(\u001b[0m\u001b[0mlabels\u001b[0m\u001b[1;33m)\u001b[0m\u001b[1;33m\u001b[0m\u001b[1;33m\u001b[0m\u001b[0m\n\u001b[1;32m--> 766\u001b[1;33m         \u001b[0mself\u001b[0m\u001b[1;33m.\u001b[0m\u001b[0m_mgr\u001b[0m\u001b[1;33m.\u001b[0m\u001b[0mset_axis\u001b[0m\u001b[1;33m(\u001b[0m\u001b[0maxis\u001b[0m\u001b[1;33m,\u001b[0m \u001b[0mlabels\u001b[0m\u001b[1;33m)\u001b[0m\u001b[1;33m\u001b[0m\u001b[1;33m\u001b[0m\u001b[0m\n\u001b[0m\u001b[0;32m    767\u001b[0m         \u001b[0mself\u001b[0m\u001b[1;33m.\u001b[0m\u001b[0m_clear_item_cache\u001b[0m\u001b[1;33m(\u001b[0m\u001b[1;33m)\u001b[0m\u001b[1;33m\u001b[0m\u001b[1;33m\u001b[0m\u001b[0m\n\u001b[0;32m    768\u001b[0m \u001b[1;33m\u001b[0m\u001b[0m\n",
      "\u001b[1;32m~\\anaconda3\\lib\\site-packages\\pandas\\core\\internals\\managers.py\u001b[0m in \u001b[0;36mset_axis\u001b[1;34m(self, axis, new_labels)\u001b[0m\n\u001b[0;32m    214\u001b[0m     \u001b[1;32mdef\u001b[0m \u001b[0mset_axis\u001b[0m\u001b[1;33m(\u001b[0m\u001b[0mself\u001b[0m\u001b[1;33m,\u001b[0m \u001b[0maxis\u001b[0m\u001b[1;33m:\u001b[0m \u001b[0mint\u001b[0m\u001b[1;33m,\u001b[0m \u001b[0mnew_labels\u001b[0m\u001b[1;33m:\u001b[0m \u001b[0mIndex\u001b[0m\u001b[1;33m)\u001b[0m \u001b[1;33m->\u001b[0m \u001b[1;32mNone\u001b[0m\u001b[1;33m:\u001b[0m\u001b[1;33m\u001b[0m\u001b[1;33m\u001b[0m\u001b[0m\n\u001b[0;32m    215\u001b[0m         \u001b[1;31m# Caller is responsible for ensuring we have an Index object.\u001b[0m\u001b[1;33m\u001b[0m\u001b[1;33m\u001b[0m\u001b[0m\n\u001b[1;32m--> 216\u001b[1;33m         \u001b[0mself\u001b[0m\u001b[1;33m.\u001b[0m\u001b[0m_validate_set_axis\u001b[0m\u001b[1;33m(\u001b[0m\u001b[0maxis\u001b[0m\u001b[1;33m,\u001b[0m \u001b[0mnew_labels\u001b[0m\u001b[1;33m)\u001b[0m\u001b[1;33m\u001b[0m\u001b[1;33m\u001b[0m\u001b[0m\n\u001b[0m\u001b[0;32m    217\u001b[0m         \u001b[0mself\u001b[0m\u001b[1;33m.\u001b[0m\u001b[0maxes\u001b[0m\u001b[1;33m[\u001b[0m\u001b[0maxis\u001b[0m\u001b[1;33m]\u001b[0m \u001b[1;33m=\u001b[0m \u001b[0mnew_labels\u001b[0m\u001b[1;33m\u001b[0m\u001b[1;33m\u001b[0m\u001b[0m\n\u001b[0;32m    218\u001b[0m \u001b[1;33m\u001b[0m\u001b[0m\n",
      "\u001b[1;32m~\\anaconda3\\lib\\site-packages\\pandas\\core\\internals\\base.py\u001b[0m in \u001b[0;36m_validate_set_axis\u001b[1;34m(self, axis, new_labels)\u001b[0m\n\u001b[0;32m     55\u001b[0m \u001b[1;33m\u001b[0m\u001b[0m\n\u001b[0;32m     56\u001b[0m         \u001b[1;32melif\u001b[0m \u001b[0mnew_len\u001b[0m \u001b[1;33m!=\u001b[0m \u001b[0mold_len\u001b[0m\u001b[1;33m:\u001b[0m\u001b[1;33m\u001b[0m\u001b[1;33m\u001b[0m\u001b[0m\n\u001b[1;32m---> 57\u001b[1;33m             raise ValueError(\n\u001b[0m\u001b[0;32m     58\u001b[0m                 \u001b[1;34mf\"Length mismatch: Expected axis has {old_len} elements, new \"\u001b[0m\u001b[1;33m\u001b[0m\u001b[1;33m\u001b[0m\u001b[0m\n\u001b[0;32m     59\u001b[0m                 \u001b[1;34mf\"values have {new_len} elements\"\u001b[0m\u001b[1;33m\u001b[0m\u001b[1;33m\u001b[0m\u001b[0m\n",
      "\u001b[1;31mValueError\u001b[0m: Length mismatch: Expected axis has 7 elements, new values have 6 elements"
     ]
    }
   ],
   "source": [
    "import pandas as pd\n",
    "import talib\n",
    "import numpy as np\n",
    "import numpy as np\n",
    "import matplotlib as plt\n",
    "import matplotlib.pyplot as plt\n",
    "from scipy.signal import argrelmax\n",
    "from scipy.signal import argrelmin\n",
    "#from mpl_finance import candlestick2_ohlc\n",
    "#from mpl_finance import candlestick_ohlc\n",
    "import matplotlib.dates as mdates\n",
    "import matplotlib.ticker as mticker\n",
    "import yfinance as yf\n",
    "data=yf.Ticker(\"INFY\")\n",
    "df=data.history(period=\"2y\")\n",
    "df\n",
    "\n",
    "#List all columns in CSV file\n",
    "df.columns = ['date', 'open', 'high', 'low', 'close', 'volume']\n",
    "\n",
    "#Set index values (0, 1, 2...) as a Date Value\n",
    "df = df.set_index(df.date)\n",
    "\n",
    "df = df.drop_duplicates(keep=False)\n",
    "\n",
    "#Convert Date column to a list\n",
    "df['date'] = pd.to_datetime(df['date']).tolist()\n",
    "\n",
    "#Only select last 200 values ['start':'end']\n",
    "df = df.iloc[:200]\n",
    "\n",
    "#Make copies of each column not to corrupt data\n",
    "open = df.open.copy()\n",
    "high = df.high.copy()\n",
    "low = df.low.copy()\n",
    "close = df.close.copy()\n",
    "volume = df.volume.copy()\n",
    "prices = df.close.copy()\n",
    "\n",
    "#TA-LIB Doji Scanner\n",
    "doji = talib.CDLDOJI(open, high, low, close)\n",
    "doji_star = talib.CDLDRAGONFLYDOJI(open, high, low, close)\n",
    "\n",
    "\n",
    "#Find peaks of Doji candle prices and use 'Order' to reduce sensitivity\n",
    "#Returns a Index value of a valid Doji candle\n",
    "# doji_idx = argrelmax(doji.values, order=1)\n",
    "# doji = close[doji_idx[0]]\n",
    "#\n",
    "# doji_idx_star = argrelmax(doji_star.values, order=1)\n",
    "# doji_star = close[doji_idx_star[0]]\n",
    "\n",
    "\n",
    "#Create a Doji Column, replace Doji points with with an candle close price\n",
    "df['doji'] = doji\n",
    "df['doji'] = np.where(df['doji'] > 0, close, 0)\n",
    "\n",
    "df['doji_star'] = doji_star\n",
    "df['doji_star'] = np.where(df['doji_star'] > 0, close, 0)\n",
    "\n",
    "#Create new Complete_Doji column, merges both columns together and finds maximas\n",
    "df['complete_doji'] = np.where(df['doji'] > 0, df['doji'], df['doji_star'])\n",
    "complete_doji = df['complete_doji']\n",
    "complete_doji_prices = [x for x in complete_doji if x != 0]\n",
    "\n",
    "df['complete_doji_idx'] = np.where(df['complete_doji'] > 0, complete_doji.index, 0)\n",
    "complete_doji_idx = df['complete_doji_idx']\n",
    "complete_doji_idx = list(complete_doji_idx)\n",
    "print(complete_doji_idx)\n",
    "#print(complete_doji_idx)\n",
    "\n",
    "# complete_doji_prices = list(complete_doji_idx.values)\n",
    "# def doji_prices_to_nan(complete_doji_prices):\n",
    "#     return[float('nan') if x == 0 else x for x in complete_doji_prices]\n",
    "# complete_doji_prices = pd.DataFrame(doji_prices_to_nan(complete_doji_prices))\n",
    "# complete_doji_prices = complete_doji_prices.dropna()\n",
    "#\n",
    "#\n",
    "# def doji_idx_to_nan(complete_doji_idx):\n",
    "#     return[float('nan') if x == 0 else x for x in complete_doji_idx]\n",
    "# complete_doji_idx = pd.DataFrame(doji_idx_to_nan(complete_doji_idx))\n",
    "# complete_doji_idx = complete_doji_idx.dropna()\n",
    "# print(complete_doji_idx.index)\n",
    "#print(doji_idx_to_nan(complete_doji_idx))\n",
    "#complete_doji_idx = argrelmax(complete_doji.values, order=1)\n",
    "#complete_doji = close[complete_doji_idx]\n",
    "\n",
    "#TA-LIB Trend line scanner\n",
    "trend_line = talib.HT_TRENDLINE(close)\n",
    "\n",
    "#Replace first 63 rows, 'NaN' values with 0s, create a new Trendline Column\n",
    "trend_line.fillna(0, inplace=True)\n",
    "df['trend_line'] = trend_line\n",
    "\n",
    "#TA-LIB RSI Scanner\n",
    "rsi = talib.RSI(close, timeperiod=7)\n",
    "\n",
    "#Fill 'NaN' values with 0s\n",
    "df['rsi'] = rsi.fillna(0)\n",
    "\n",
    "#Create new columns for RSI70 and RSI30 and fill with rsi values if Above/Below\n",
    "df['rsi70'] = np.where(df['rsi'] >= 70, rsi, 0)\n",
    "df['rsi30'] = np.where(df['rsi'] <= 30, rsi, 0)\n",
    "\n",
    "#Create Above/Below trend columns and insert Doji prices if Above/Below trend line\n",
    "df['above_trend'] = np.where(df['complete_doji'] > df['trend_line'], df.complete_doji, 0)\n",
    "above_trend = df['above_trend']\n",
    "df['below_trend'] = np.where(df['complete_doji'] < df['trend_line'], df.complete_doji, 0)\n",
    "below_trend = df['below_trend']\n",
    "\n",
    "df['five_max'] = np.where(df['above_trend'] > 0, 1, 0)\n",
    "five_max = df['five_max']\n",
    "five_max_list = list(five_max)\n",
    "\n",
    "df['five_min'] = np.where(df['below_trend'] > 0, 1, 0)\n",
    "five_min = df['five_min']\n",
    "five_min_list = list(five_min)\n",
    "\n",
    "for i in range(len(five_max_list)):\n",
    "    if five_max_list[i] == 1:\n",
    "        five_max_list[i-1] = high[i+1]\n",
    "        five_max_list[i - 2] = high[i+2]\n",
    "        five_max_list[i - 3] = high[i+3]\n",
    "        #five_max_list[i - 4] = 1\n",
    "    else:\n",
    "        pass\n",
    "\n",
    "for i in range(len(five_min_list)):\n",
    "    if five_min_list[i] == 1:\n",
    "        five_min_list[i-1] = 1\n",
    "        five_min_list[i - 2] = 1\n",
    "        five_min_list[i - 3] = 1\n",
    "        #five_min_list[i - 4] = 1\n",
    "    else:\n",
    "        pass\n",
    "\n",
    "df['Five_max_list'] = five_max_list\n",
    "df['Five_max_list'] = np.where(df['Five_max_list'] > 0, high, 0)\n",
    "five_max_list = df['Five_max_list']\n",
    "df['Five_min_list'] = five_min_list\n",
    "df['Five_min_list'] = np.where(df['Five_min_list'] > 0, low, 0)\n",
    "five_min_list = df['Five_min_list']\n",
    "\n",
    "#Set up a windows size and plot OHLC\n",
    "fig, ax = plt.subplots(figsize=[15, 9])\n",
    "candlestick2_ohlc(ax, df['open'], df['high'], df['low'], df['close'], colorup='green', colordown='red', width=0.5)\n",
    "\n",
    "#Plot valid Doji prices on graph, x and y are same length in this data set\n",
    "#Doji_idx returns only indexes with valid doji pattern, doji return a price value\n",
    "#plt.scatter(complete_doji_idx.index, complete_doji_prices, color='b')\n",
    "\n",
    "def max_to_nan(five_max_list):\n",
    "    return[float('nan') if x == 0 else x for x in five_max_list]\n",
    "plt.plot(max_to_nan(five_max_list), color='b')\n",
    "\n",
    "def min_to_nan(five_min_list):\n",
    "    return[float('nan') if x == 0 else x for x in five_min_list]\n",
    "plt.plot(min_to_nan(five_min_list), color='b')\n",
    "\n",
    "#Get rid of '0' values and replace with 'NaN' for plotting a graph\n",
    "#This is a full data list e.g. 200 rows, both x and y are same lenght\n",
    "def trend_to_nan(trend_line):\n",
    "    return[float('nan') if x == 0 else x for x in trend_line]\n",
    "plt.plot(trend_to_nan(trend_line))\n",
    "\n",
    "plt.show()\n",
    "\n",
    "#Generate a new CSV File with complete data frame\n",
    "df.to_csv(\"sampled_date.csv\")"
   ]
  },
  {
   "cell_type": "code",
   "execution_count": 1,
   "id": "04b546f8",
   "metadata": {},
   "outputs": [],
   "source": [
    "import pandas as pd\n",
    "import talib\n",
    "import numpy as np\n",
    "import matplotlib as plt\n",
    "import matplotlib.pyplot as plt\n",
    "from scipy.signal import argrelmax\n",
    "from scipy.signal import argrelmin\n",
    "#from mpl_finance import candlestick2_ohlc\n",
    "#from mpl_finance import candlestick_ohlc\n",
    "import matplotlib.dates as mdates\n",
    "import matplotlib.ticker as mticker\n",
    "import yfinance as yf\n",
    "data=yf.Ticker(\"INFY.NS\")\n",
    "df=data.history(period=\"1y\")\n",
    "\n",
    "data1=yf.Ticker(\"SBI\")\n",
    "df2=data1.history(period=\"1y\")\n",
    "\n",
    "\n",
    "open = df.Open.copy()\n",
    "open2=df2.Open.copy()\n",
    "high = df.High.copy()\n",
    "low = df.Low.copy()\n",
    "close = df.Close.copy()\n",
    "\n",
    "prices = df.Close.copy()\n",
    "\n",
    "a= talib.CDLENGULFING(open, high , low , close)"
   ]
  },
  {
   "cell_type": "code",
   "execution_count": 3,
   "id": "6d535ea5",
   "metadata": {},
   "outputs": [
    {
     "ename": "AttributeError",
     "evalue": "'Series' object has no attribute 'type'",
     "output_type": "error",
     "traceback": [
      "\u001b[1;31m---------------------------------------------------------------------------\u001b[0m",
      "\u001b[1;31mAttributeError\u001b[0m                            Traceback (most recent call last)",
      "\u001b[1;32m~\\AppData\\Local\\Temp/ipykernel_23436/2059473231.py\u001b[0m in \u001b[0;36m<module>\u001b[1;34m\u001b[0m\n\u001b[1;32m----> 1\u001b[1;33m \u001b[0mopen\u001b[0m\u001b[1;33m.\u001b[0m\u001b[0mtype\u001b[0m\u001b[1;33m(\u001b[0m\u001b[1;33m)\u001b[0m\u001b[1;33m\u001b[0m\u001b[1;33m\u001b[0m\u001b[0m\n\u001b[0m",
      "\u001b[1;32m~\\anaconda3\\lib\\site-packages\\pandas\\core\\generic.py\u001b[0m in \u001b[0;36m__getattr__\u001b[1;34m(self, name)\u001b[0m\n\u001b[0;32m   5485\u001b[0m         ):\n\u001b[0;32m   5486\u001b[0m             \u001b[1;32mreturn\u001b[0m \u001b[0mself\u001b[0m\u001b[1;33m[\u001b[0m\u001b[0mname\u001b[0m\u001b[1;33m]\u001b[0m\u001b[1;33m\u001b[0m\u001b[1;33m\u001b[0m\u001b[0m\n\u001b[1;32m-> 5487\u001b[1;33m         \u001b[1;32mreturn\u001b[0m \u001b[0mobject\u001b[0m\u001b[1;33m.\u001b[0m\u001b[0m__getattribute__\u001b[0m\u001b[1;33m(\u001b[0m\u001b[0mself\u001b[0m\u001b[1;33m,\u001b[0m \u001b[0mname\u001b[0m\u001b[1;33m)\u001b[0m\u001b[1;33m\u001b[0m\u001b[1;33m\u001b[0m\u001b[0m\n\u001b[0m\u001b[0;32m   5488\u001b[0m \u001b[1;33m\u001b[0m\u001b[0m\n\u001b[0;32m   5489\u001b[0m     \u001b[1;32mdef\u001b[0m \u001b[0m__setattr__\u001b[0m\u001b[1;33m(\u001b[0m\u001b[0mself\u001b[0m\u001b[1;33m,\u001b[0m \u001b[0mname\u001b[0m\u001b[1;33m:\u001b[0m \u001b[0mstr\u001b[0m\u001b[1;33m,\u001b[0m \u001b[0mvalue\u001b[0m\u001b[1;33m)\u001b[0m \u001b[1;33m->\u001b[0m \u001b[1;32mNone\u001b[0m\u001b[1;33m:\u001b[0m\u001b[1;33m\u001b[0m\u001b[1;33m\u001b[0m\u001b[0m\n",
      "\u001b[1;31mAttributeError\u001b[0m: 'Series' object has no attribute 'type'"
     ]
    }
   ],
   "source": [
    "open"
   ]
  },
  {
   "cell_type": "code",
   "execution_count": 5,
   "id": "c527a0cf",
   "metadata": {},
   "outputs": [
    {
     "data": {
      "text/html": [
       "<div>\n",
       "<style scoped>\n",
       "    .dataframe tbody tr th:only-of-type {\n",
       "        vertical-align: middle;\n",
       "    }\n",
       "\n",
       "    .dataframe tbody tr th {\n",
       "        vertical-align: top;\n",
       "    }\n",
       "\n",
       "    .dataframe thead th {\n",
       "        text-align: right;\n",
       "    }\n",
       "</style>\n",
       "<table border=\"1\" class=\"dataframe\">\n",
       "  <thead>\n",
       "    <tr style=\"text-align: right;\">\n",
       "      <th></th>\n",
       "      <th>Open</th>\n",
       "      <th>High</th>\n",
       "      <th>Low</th>\n",
       "      <th>Close</th>\n",
       "      <th>Volume</th>\n",
       "      <th>Dividends</th>\n",
       "      <th>Stock Splits</th>\n",
       "    </tr>\n",
       "    <tr>\n",
       "      <th>Date</th>\n",
       "      <th></th>\n",
       "      <th></th>\n",
       "      <th></th>\n",
       "      <th></th>\n",
       "      <th></th>\n",
       "      <th></th>\n",
       "      <th></th>\n",
       "    </tr>\n",
       "  </thead>\n",
       "  <tbody>\n",
       "    <tr>\n",
       "      <th>2013-01-30</th>\n",
       "      <td>275.582343</td>\n",
       "      <td>275.700245</td>\n",
       "      <td>273.204563</td>\n",
       "      <td>274.196930</td>\n",
       "      <td>6805528</td>\n",
       "      <td>0.0</td>\n",
       "      <td>0.0</td>\n",
       "    </tr>\n",
       "    <tr>\n",
       "      <th>2013-01-31</th>\n",
       "      <td>274.329532</td>\n",
       "      <td>275.813200</td>\n",
       "      <td>272.167909</td>\n",
       "      <td>274.083893</td>\n",
       "      <td>17480440</td>\n",
       "      <td>0.0</td>\n",
       "      <td>0.0</td>\n",
       "    </tr>\n",
       "    <tr>\n",
       "      <th>2013-02-01</th>\n",
       "      <td>274.241217</td>\n",
       "      <td>275.302359</td>\n",
       "      <td>270.399414</td>\n",
       "      <td>272.261353</td>\n",
       "      <td>7899648</td>\n",
       "      <td>0.0</td>\n",
       "      <td>0.0</td>\n",
       "    </tr>\n",
       "    <tr>\n",
       "      <th>2013-02-04</th>\n",
       "      <td>273.248744</td>\n",
       "      <td>274.133044</td>\n",
       "      <td>269.711543</td>\n",
       "      <td>271.932129</td>\n",
       "      <td>7500016</td>\n",
       "      <td>0.0</td>\n",
       "      <td>0.0</td>\n",
       "    </tr>\n",
       "    <tr>\n",
       "      <th>2013-02-05</th>\n",
       "      <td>271.504750</td>\n",
       "      <td>273.381442</td>\n",
       "      <td>269.765631</td>\n",
       "      <td>270.782562</td>\n",
       "      <td>6166112</td>\n",
       "      <td>0.0</td>\n",
       "      <td>0.0</td>\n",
       "    </tr>\n",
       "    <tr>\n",
       "      <th>...</th>\n",
       "      <td>...</td>\n",
       "      <td>...</td>\n",
       "      <td>...</td>\n",
       "      <td>...</td>\n",
       "      <td>...</td>\n",
       "      <td>...</td>\n",
       "      <td>...</td>\n",
       "    </tr>\n",
       "    <tr>\n",
       "      <th>2023-01-23</th>\n",
       "      <td>1535.000000</td>\n",
       "      <td>1553.300049</td>\n",
       "      <td>1528.099976</td>\n",
       "      <td>1548.000000</td>\n",
       "      <td>4855020</td>\n",
       "      <td>0.0</td>\n",
       "      <td>0.0</td>\n",
       "    </tr>\n",
       "    <tr>\n",
       "      <th>2023-01-24</th>\n",
       "      <td>1560.000000</td>\n",
       "      <td>1568.800049</td>\n",
       "      <td>1549.750000</td>\n",
       "      <td>1551.900024</td>\n",
       "      <td>5200802</td>\n",
       "      <td>0.0</td>\n",
       "      <td>0.0</td>\n",
       "    </tr>\n",
       "    <tr>\n",
       "      <th>2023-01-25</th>\n",
       "      <td>1547.000000</td>\n",
       "      <td>1556.000000</td>\n",
       "      <td>1538.750000</td>\n",
       "      <td>1543.000000</td>\n",
       "      <td>4158617</td>\n",
       "      <td>0.0</td>\n",
       "      <td>0.0</td>\n",
       "    </tr>\n",
       "    <tr>\n",
       "      <th>2023-01-27</th>\n",
       "      <td>1546.000000</td>\n",
       "      <td>1550.949951</td>\n",
       "      <td>1507.400024</td>\n",
       "      <td>1519.150024</td>\n",
       "      <td>6209955</td>\n",
       "      <td>0.0</td>\n",
       "      <td>0.0</td>\n",
       "    </tr>\n",
       "    <tr>\n",
       "      <th>2023-01-30</th>\n",
       "      <td>1528.800049</td>\n",
       "      <td>1544.000000</td>\n",
       "      <td>1520.000000</td>\n",
       "      <td>1538.800049</td>\n",
       "      <td>6963862</td>\n",
       "      <td>0.0</td>\n",
       "      <td>0.0</td>\n",
       "    </tr>\n",
       "  </tbody>\n",
       "</table>\n",
       "<p>2467 rows × 7 columns</p>\n",
       "</div>"
      ],
      "text/plain": [
       "                   Open         High          Low        Close    Volume  \\\n",
       "Date                                                                       \n",
       "2013-01-30   275.582343   275.700245   273.204563   274.196930   6805528   \n",
       "2013-01-31   274.329532   275.813200   272.167909   274.083893  17480440   \n",
       "2013-02-01   274.241217   275.302359   270.399414   272.261353   7899648   \n",
       "2013-02-04   273.248744   274.133044   269.711543   271.932129   7500016   \n",
       "2013-02-05   271.504750   273.381442   269.765631   270.782562   6166112   \n",
       "...                 ...          ...          ...          ...       ...   \n",
       "2023-01-23  1535.000000  1553.300049  1528.099976  1548.000000   4855020   \n",
       "2023-01-24  1560.000000  1568.800049  1549.750000  1551.900024   5200802   \n",
       "2023-01-25  1547.000000  1556.000000  1538.750000  1543.000000   4158617   \n",
       "2023-01-27  1546.000000  1550.949951  1507.400024  1519.150024   6209955   \n",
       "2023-01-30  1528.800049  1544.000000  1520.000000  1538.800049   6963862   \n",
       "\n",
       "            Dividends  Stock Splits  \n",
       "Date                                 \n",
       "2013-01-30        0.0           0.0  \n",
       "2013-01-31        0.0           0.0  \n",
       "2013-02-01        0.0           0.0  \n",
       "2013-02-04        0.0           0.0  \n",
       "2013-02-05        0.0           0.0  \n",
       "...               ...           ...  \n",
       "2023-01-23        0.0           0.0  \n",
       "2023-01-24        0.0           0.0  \n",
       "2023-01-25        0.0           0.0  \n",
       "2023-01-27        0.0           0.0  \n",
       "2023-01-30        0.0           0.0  \n",
       "\n",
       "[2467 rows x 7 columns]"
      ]
     },
     "execution_count": 5,
     "metadata": {},
     "output_type": "execute_result"
    }
   ],
   "source": [
    "df"
   ]
  },
  {
   "cell_type": "code",
   "execution_count": 9,
   "id": "e25923f1",
   "metadata": {},
   "outputs": [],
   "source": [
    "def isSupport(df,i):\n",
    "  support = df['Low'][i] < df['Low'][i-1]  and df['Low'][i] < df['Low'][i+1] \\\n",
    "  and df['Low'][i+1] < df['Low'][i+2] and df['Low'][i-1] < df['Low'][i-2]\n",
    "\n",
    "  return support\n",
    "def isResistance(df,i):\n",
    "  resistance = df['High'][i] > df['High'][i-1]  and df['High'][i] > df['High'][i+1] \\\n",
    "  and df['High'][i+1] > df['High'][i+2] and df['High'][i-1] > df['High'][i-2] \n",
    "\n",
    "  return resistance"
   ]
  },
  {
   "cell_type": "code",
   "execution_count": 10,
   "id": "a19f5612",
   "metadata": {},
   "outputs": [],
   "source": [
    "levels = []\n",
    "for i in range(2,df.shape[0]-2):\n",
    "  if isSupport(df,i):\n",
    "    levels.append((i,df['Low'][i]))\n",
    "    \n",
    "res_levels = []\n",
    "for i in range(2,df.shape[0]-2):\n",
    "  if isResistance(df,i):\n",
    "    res_levels.append((i,df['High'][i]))\n",
    "    \n",
    "\n",
    "    \n"
   ]
  },
  {
   "cell_type": "code",
   "execution_count": null,
   "id": "e0a57c66",
   "metadata": {},
   "outputs": [],
   "source": []
  },
  {
   "cell_type": "code",
   "execution_count": null,
   "id": "408d0a9a",
   "metadata": {},
   "outputs": [],
   "source": []
  },
  {
   "cell_type": "code",
   "execution_count": null,
   "id": "bbd71eba",
   "metadata": {},
   "outputs": [],
   "source": []
  },
  {
   "cell_type": "code",
   "execution_count": null,
   "id": "47da9c98",
   "metadata": {},
   "outputs": [],
   "source": [
    "counter = 0\n",
    "for i in levels:\n",
    "    counter = counter + 1\n",
    "len1 = counter\n",
    "len1\n",
    "\n",
    "x = df[df.columns[0]].count()\n",
    "\n",
    "def levelsDaysMapping(x):\n",
    "  mapping = []\n",
    "  c = 0\n",
    "  j = 0\n",
    "  while(j <= levels[c][0]):\n",
    "    mapping.append((j,-1))\n",
    "    j = j + 1    \n",
    "  for i in range(j,x):\n",
    "    if ((c+1)<len1):\n",
    "      if (i > levels[c+1][0]):\n",
    "        c = c + 1\n",
    "      mapping.append((i,levels[c][0]))\n",
    "  return mapping\n",
    "newMapping = []\n",
    "newMapping = levelsDaysMapping(x)\n",
    "newMapping"
   ]
  },
  {
   "cell_type": "code",
   "execution_count": null,
   "id": "3473714a",
   "metadata": {},
   "outputs": [],
   "source": [
    "Buy = []\n",
    "for i in range(0,df.shape[0]-2):\n",
    "    if levels[newmapping[i][1]]<df[\"CLose\"]:\n",
    "        a = df[\"Close\"]\n",
    "    else :\n",
    "        \n",
    "        "
   ]
  },
  {
   "cell_type": "code",
   "execution_count": 12,
   "id": "7b11a872",
   "metadata": {
    "scrolled": true
   },
   "outputs": [
    {
     "data": {
      "text/plain": [
       "[(0, -1),\n",
       " (1, -1),\n",
       " (2, -1),\n",
       " (3, -1),\n",
       " (4, -1),\n",
       " (5, -1),\n",
       " (6, 5),\n",
       " (7, 5),\n",
       " (8, 5),\n",
       " (9, 5),\n",
       " (10, 5),\n",
       " (11, 5),\n",
       " (12, 5),\n",
       " (13, 5),\n",
       " (14, 5),\n",
       " (15, 5),\n",
       " (16, 5),\n",
       " (17, 5),\n",
       " (18, 17),\n",
       " (19, 17),\n",
       " (20, 17),\n",
       " (21, 17),\n",
       " (22, 17),\n",
       " (23, 17),\n",
       " (24, 23),\n",
       " (25, 23),\n",
       " (26, 23),\n",
       " (27, 23),\n",
       " (28, 23),\n",
       " (29, 23),\n",
       " (30, 23),\n",
       " (31, 23),\n",
       " (32, 31),\n",
       " (33, 31),\n",
       " (34, 31),\n",
       " (35, 31),\n",
       " (36, 31),\n",
       " (37, 31),\n",
       " (38, 31),\n",
       " (39, 31),\n",
       " (40, 31),\n",
       " (41, 31),\n",
       " (42, 31),\n",
       " (43, 31),\n",
       " (44, 31),\n",
       " (45, 31),\n",
       " (46, 31),\n",
       " (47, 31),\n",
       " (48, 31),\n",
       " (49, 31),\n",
       " (50, 31),\n",
       " (51, 31),\n",
       " (52, 31),\n",
       " (53, 31),\n",
       " (54, 31),\n",
       " (55, 31),\n",
       " (56, 31),\n",
       " (57, 31),\n",
       " (58, 31),\n",
       " (59, 31),\n",
       " (60, 31),\n",
       " (61, 31),\n",
       " (62, 31),\n",
       " (63, 31),\n",
       " (64, 31),\n",
       " (65, 31),\n",
       " (66, 31),\n",
       " (67, 31),\n",
       " (68, 31),\n",
       " (69, 31),\n",
       " (70, 31),\n",
       " (71, 31),\n",
       " (72, 31),\n",
       " (73, 31),\n",
       " (74, 31),\n",
       " (75, 31),\n",
       " (76, 31),\n",
       " (77, 31),\n",
       " (78, 31),\n",
       " (79, 31),\n",
       " (80, 31),\n",
       " (81, 31),\n",
       " (82, 31),\n",
       " (83, 31),\n",
       " (84, 31),\n",
       " (85, 31),\n",
       " (86, 31),\n",
       " (87, 31),\n",
       " (88, 31),\n",
       " (89, 31),\n",
       " (90, 31),\n",
       " (91, 90),\n",
       " (92, 90),\n",
       " (93, 90),\n",
       " (94, 90),\n",
       " (95, 90),\n",
       " (96, 95),\n",
       " (97, 95),\n",
       " (98, 95),\n",
       " (99, 95),\n",
       " (100, 95),\n",
       " (101, 95),\n",
       " (102, 95),\n",
       " (103, 95),\n",
       " (104, 95),\n",
       " (105, 95),\n",
       " (106, 95),\n",
       " (107, 95),\n",
       " (108, 95),\n",
       " (109, 95),\n",
       " (110, 109),\n",
       " (111, 109),\n",
       " (112, 109),\n",
       " (113, 109),\n",
       " (114, 109),\n",
       " (115, 109),\n",
       " (116, 109),\n",
       " (117, 109),\n",
       " (118, 109),\n",
       " (119, 109),\n",
       " (120, 109),\n",
       " (121, 109),\n",
       " (122, 109),\n",
       " (123, 109),\n",
       " (124, 109),\n",
       " (125, 109),\n",
       " (126, 109),\n",
       " (127, 109),\n",
       " (128, 109),\n",
       " (129, 109),\n",
       " (130, 109),\n",
       " (131, 109),\n",
       " (132, 109),\n",
       " (133, 109),\n",
       " (134, 133),\n",
       " (135, 133),\n",
       " (136, 133),\n",
       " (137, 133),\n",
       " (138, 133),\n",
       " (139, 133),\n",
       " (140, 133),\n",
       " (141, 133),\n",
       " (142, 133),\n",
       " (143, 133),\n",
       " (144, 143),\n",
       " (145, 143),\n",
       " (146, 143),\n",
       " (147, 143),\n",
       " (148, 143),\n",
       " (149, 148),\n",
       " (150, 148),\n",
       " (151, 148),\n",
       " (152, 148),\n",
       " (153, 148),\n",
       " (154, 148),\n",
       " (155, 148),\n",
       " (156, 148),\n",
       " (157, 148),\n",
       " (158, 148),\n",
       " (159, 148),\n",
       " (160, 148),\n",
       " (161, 148),\n",
       " (162, 148),\n",
       " (163, 148),\n",
       " (164, 148),\n",
       " (165, 148),\n",
       " (166, 148),\n",
       " (167, 148),\n",
       " (168, 148),\n",
       " (169, 148),\n",
       " (170, 148),\n",
       " (171, 148),\n",
       " (172, 171),\n",
       " (173, 171),\n",
       " (174, 171),\n",
       " (175, 171),\n",
       " (176, 171),\n",
       " (177, 171),\n",
       " (178, 171),\n",
       " (179, 171),\n",
       " (180, 171),\n",
       " (181, 171),\n",
       " (182, 171),\n",
       " (183, 171),\n",
       " (184, 171),\n",
       " (185, 171),\n",
       " (186, 171),\n",
       " (187, 171),\n",
       " (188, 171),\n",
       " (189, 171),\n",
       " (190, 171),\n",
       " (191, 171),\n",
       " (192, 171),\n",
       " (193, 171),\n",
       " (194, 171),\n",
       " (195, 171),\n",
       " (196, 195),\n",
       " (197, 195),\n",
       " (198, 195),\n",
       " (199, 195),\n",
       " (200, 195),\n",
       " (201, 195),\n",
       " (202, 195),\n",
       " (203, 195),\n",
       " (204, 195),\n",
       " (205, 195),\n",
       " (206, 195),\n",
       " (207, 195),\n",
       " (208, 195),\n",
       " (209, 195),\n",
       " (210, 195),\n",
       " (211, 195),\n",
       " (212, 211),\n",
       " (213, 211),\n",
       " (214, 211),\n",
       " (215, 211),\n",
       " (216, 215),\n",
       " (217, 215),\n",
       " (218, 215),\n",
       " (219, 215),\n",
       " (220, 215),\n",
       " (221, 215),\n",
       " (222, 215),\n",
       " (223, 222),\n",
       " (224, 222),\n",
       " (225, 222),\n",
       " (226, 222),\n",
       " (227, 222),\n",
       " (228, 222),\n",
       " (229, 222),\n",
       " (230, 222),\n",
       " (231, 222),\n",
       " (232, 222),\n",
       " (233, 222),\n",
       " (234, 222),\n",
       " (235, 222),\n",
       " (236, 222),\n",
       " (237, 222),\n",
       " (238, 222),\n",
       " (239, 222),\n",
       " (240, 239),\n",
       " (241, 239),\n",
       " (242, 239),\n",
       " (243, 239),\n",
       " (244, 239),\n",
       " (245, 239),\n",
       " (246, 239),\n",
       " (247, 239),\n",
       " (248, 239),\n",
       " (249, 239),\n",
       " (250, 239),\n",
       " (251, 239),\n",
       " (252, 239),\n",
       " (253, 252),\n",
       " (254, 252),\n",
       " (255, 252),\n",
       " (256, 252),\n",
       " (257, 252),\n",
       " (258, 252),\n",
       " (259, 252),\n",
       " (260, 252),\n",
       " (261, 252),\n",
       " (262, 252),\n",
       " (263, 252),\n",
       " (264, 252),\n",
       " (265, 252),\n",
       " (266, 252),\n",
       " (267, 252),\n",
       " (268, 252),\n",
       " (269, 252),\n",
       " (270, 252),\n",
       " (271, 252),\n",
       " (272, 252),\n",
       " (273, 252),\n",
       " (274, 252),\n",
       " (275, 252),\n",
       " (276, 252),\n",
       " (277, 252),\n",
       " (278, 252),\n",
       " (279, 252),\n",
       " (280, 252),\n",
       " (281, 252),\n",
       " (282, 252),\n",
       " (283, 252),\n",
       " (284, 252),\n",
       " (285, 252),\n",
       " (286, 252),\n",
       " (287, 252),\n",
       " (288, 287),\n",
       " (289, 287),\n",
       " (290, 287),\n",
       " (291, 287),\n",
       " (292, 287),\n",
       " (293, 287),\n",
       " (294, 287),\n",
       " (295, 287),\n",
       " (296, 287),\n",
       " (297, 287),\n",
       " (298, 287),\n",
       " (299, 287),\n",
       " (300, 287),\n",
       " (301, 287),\n",
       " (302, 287),\n",
       " (303, 287),\n",
       " (304, 303),\n",
       " (305, 303),\n",
       " (306, 303),\n",
       " (307, 303),\n",
       " (308, 303),\n",
       " (309, 303),\n",
       " (310, 303),\n",
       " (311, 303),\n",
       " (312, 303),\n",
       " (313, 303),\n",
       " (314, 303),\n",
       " (315, 303),\n",
       " (316, 303),\n",
       " (317, 303),\n",
       " (318, 303),\n",
       " (319, 303),\n",
       " (320, 303),\n",
       " (321, 303),\n",
       " (322, 321),\n",
       " (323, 321),\n",
       " (324, 321),\n",
       " (325, 321),\n",
       " (326, 321),\n",
       " (327, 321),\n",
       " (328, 321),\n",
       " (329, 321),\n",
       " (330, 329),\n",
       " (331, 329),\n",
       " (332, 329),\n",
       " (333, 329),\n",
       " (334, 329),\n",
       " (335, 329),\n",
       " (336, 329),\n",
       " (337, 336),\n",
       " (338, 336),\n",
       " (339, 336),\n",
       " (340, 336),\n",
       " (341, 336),\n",
       " (342, 336),\n",
       " (343, 336),\n",
       " (344, 336),\n",
       " (345, 336),\n",
       " (346, 336),\n",
       " (347, 336),\n",
       " (348, 336),\n",
       " (349, 336),\n",
       " (350, 336),\n",
       " (351, 336),\n",
       " (352, 336),\n",
       " (353, 336),\n",
       " (354, 336),\n",
       " (355, 336),\n",
       " (356, 336),\n",
       " (357, 356),\n",
       " (358, 356),\n",
       " (359, 356),\n",
       " (360, 356),\n",
       " (361, 356),\n",
       " (362, 361),\n",
       " (363, 361),\n",
       " (364, 361),\n",
       " (365, 361),\n",
       " (366, 361),\n",
       " (367, 361),\n",
       " (368, 361),\n",
       " (369, 361),\n",
       " (370, 361),\n",
       " (371, 361),\n",
       " (372, 361),\n",
       " (373, 361),\n",
       " (374, 361),\n",
       " (375, 361),\n",
       " (376, 361),\n",
       " (377, 361),\n",
       " (378, 361),\n",
       " (379, 361),\n",
       " (380, 361),\n",
       " (381, 361),\n",
       " (382, 381),\n",
       " (383, 381),\n",
       " (384, 381),\n",
       " (385, 381),\n",
       " (386, 381),\n",
       " (387, 381),\n",
       " (388, 381),\n",
       " (389, 381),\n",
       " (390, 381),\n",
       " (391, 381),\n",
       " (392, 391),\n",
       " (393, 391),\n",
       " (394, 391),\n",
       " (395, 391),\n",
       " (396, 391),\n",
       " (397, 391),\n",
       " (398, 391),\n",
       " (399, 391),\n",
       " (400, 391),\n",
       " (401, 391),\n",
       " (402, 391),\n",
       " (403, 391),\n",
       " (404, 391),\n",
       " (405, 391),\n",
       " (406, 391),\n",
       " (407, 391),\n",
       " (408, 391),\n",
       " (409, 391),\n",
       " (410, 391),\n",
       " (411, 391),\n",
       " (412, 391),\n",
       " (413, 391),\n",
       " (414, 391),\n",
       " (415, 391),\n",
       " (416, 391),\n",
       " (417, 391),\n",
       " (418, 417),\n",
       " (419, 417),\n",
       " (420, 417),\n",
       " (421, 417),\n",
       " (422, 417),\n",
       " (423, 417),\n",
       " (424, 417),\n",
       " (425, 424),\n",
       " (426, 424),\n",
       " (427, 424),\n",
       " (428, 424),\n",
       " (429, 428),\n",
       " (430, 428),\n",
       " (431, 428),\n",
       " (432, 428),\n",
       " (433, 428),\n",
       " (434, 428),\n",
       " (435, 428),\n",
       " (436, 428),\n",
       " (437, 428),\n",
       " (438, 428),\n",
       " (439, 428),\n",
       " (440, 428),\n",
       " (441, 440),\n",
       " (442, 440),\n",
       " (443, 440),\n",
       " (444, 440),\n",
       " (445, 440),\n",
       " (446, 440),\n",
       " (447, 440),\n",
       " (448, 440),\n",
       " (449, 440),\n",
       " (450, 440),\n",
       " (451, 440),\n",
       " (452, 440),\n",
       " (453, 440),\n",
       " (454, 440),\n",
       " (455, 440),\n",
       " (456, 440),\n",
       " (457, 440),\n",
       " (458, 440),\n",
       " (459, 440),\n",
       " (460, 440),\n",
       " (461, 440),\n",
       " (462, 440),\n",
       " (463, 440),\n",
       " (464, 440),\n",
       " (465, 440),\n",
       " (466, 440),\n",
       " (467, 440),\n",
       " (468, 440),\n",
       " (469, 440),\n",
       " (470, 440),\n",
       " (471, 440),\n",
       " (472, 440),\n",
       " (473, 440),\n",
       " (474, 440),\n",
       " (475, 440),\n",
       " (476, 440),\n",
       " (477, 476),\n",
       " (478, 476),\n",
       " (479, 476),\n",
       " (480, 476),\n",
       " (481, 476),\n",
       " (482, 476),\n",
       " (483, 476),\n",
       " (484, 476),\n",
       " (485, 476),\n",
       " (486, 476),\n",
       " (487, 476),\n",
       " (488, 476),\n",
       " (489, 476),\n",
       " (490, 489),\n",
       " (491, 489),\n",
       " (492, 489),\n",
       " (493, 489),\n",
       " (494, 489),\n",
       " (495, 489),\n",
       " (496, 489),\n",
       " (497, 489),\n",
       " (498, 489),\n",
       " (499, 489),\n",
       " (500, 489),\n",
       " (501, 489),\n",
       " (502, 489),\n",
       " (503, 489),\n",
       " (504, 489),\n",
       " (505, 489),\n",
       " (506, 489),\n",
       " (507, 489),\n",
       " (508, 507),\n",
       " (509, 507),\n",
       " (510, 507),\n",
       " (511, 507),\n",
       " (512, 507),\n",
       " (513, 507),\n",
       " (514, 507),\n",
       " (515, 507),\n",
       " (516, 507),\n",
       " (517, 507),\n",
       " (518, 517),\n",
       " (519, 517),\n",
       " (520, 517),\n",
       " (521, 517),\n",
       " (522, 521),\n",
       " (523, 521),\n",
       " (524, 521),\n",
       " (525, 521),\n",
       " (526, 521),\n",
       " (527, 521),\n",
       " (528, 521),\n",
       " (529, 521),\n",
       " (530, 521),\n",
       " (531, 521),\n",
       " (532, 521),\n",
       " (533, 521),\n",
       " (534, 533),\n",
       " (535, 533),\n",
       " (536, 533),\n",
       " (537, 533),\n",
       " (538, 533),\n",
       " (539, 538),\n",
       " (540, 538),\n",
       " (541, 538),\n",
       " (542, 538),\n",
       " (543, 538),\n",
       " (544, 538),\n",
       " (545, 544),\n",
       " (546, 544),\n",
       " (547, 544),\n",
       " (548, 544),\n",
       " (549, 544),\n",
       " (550, 544),\n",
       " (551, 544),\n",
       " (552, 544),\n",
       " (553, 544),\n",
       " (554, 544),\n",
       " (555, 544),\n",
       " (556, 544),\n",
       " (557, 544),\n",
       " (558, 544),\n",
       " (559, 544),\n",
       " (560, 544),\n",
       " (561, 544),\n",
       " (562, 544),\n",
       " (563, 544),\n",
       " (564, 544),\n",
       " (565, 544),\n",
       " (566, 565),\n",
       " (567, 565),\n",
       " (568, 565),\n",
       " (569, 565),\n",
       " (570, 565),\n",
       " (571, 565),\n",
       " (572, 565),\n",
       " (573, 572),\n",
       " (574, 572),\n",
       " (575, 572),\n",
       " (576, 572),\n",
       " (577, 572),\n",
       " (578, 572),\n",
       " (579, 572),\n",
       " (580, 572),\n",
       " (581, 572),\n",
       " (582, 572),\n",
       " (583, 572),\n",
       " (584, 572),\n",
       " (585, 572),\n",
       " (586, 572),\n",
       " (587, 586),\n",
       " (588, 586),\n",
       " (589, 586),\n",
       " (590, 586),\n",
       " (591, 586),\n",
       " (592, 586),\n",
       " (593, 586),\n",
       " (594, 586),\n",
       " (595, 586),\n",
       " (596, 595),\n",
       " (597, 595),\n",
       " (598, 595),\n",
       " (599, 595),\n",
       " (600, 595),\n",
       " (601, 595),\n",
       " (602, 595),\n",
       " (603, 595),\n",
       " (604, 595),\n",
       " (605, 595),\n",
       " (606, 595),\n",
       " (607, 606),\n",
       " (608, 606),\n",
       " (609, 606),\n",
       " (610, 606),\n",
       " (611, 610),\n",
       " (612, 610),\n",
       " (613, 610),\n",
       " (614, 610),\n",
       " (615, 610),\n",
       " (616, 610),\n",
       " (617, 616),\n",
       " (618, 616),\n",
       " (619, 616),\n",
       " (620, 616),\n",
       " (621, 616),\n",
       " (622, 616),\n",
       " (623, 616),\n",
       " (624, 623),\n",
       " (625, 623),\n",
       " (626, 623),\n",
       " (627, 623),\n",
       " (628, 623),\n",
       " (629, 628),\n",
       " (630, 628),\n",
       " (631, 628),\n",
       " (632, 628),\n",
       " (633, 628),\n",
       " (634, 628),\n",
       " (635, 628),\n",
       " (636, 628),\n",
       " (637, 628),\n",
       " (638, 628),\n",
       " (639, 628),\n",
       " (640, 628),\n",
       " (641, 628),\n",
       " (642, 628),\n",
       " (643, 628),\n",
       " (644, 628),\n",
       " (645, 628),\n",
       " (646, 628),\n",
       " (647, 628),\n",
       " (648, 628),\n",
       " (649, 628),\n",
       " (650, 628),\n",
       " (651, 628),\n",
       " (652, 628),\n",
       " (653, 628),\n",
       " (654, 628),\n",
       " (655, 654),\n",
       " (656, 654),\n",
       " (657, 654),\n",
       " (658, 654),\n",
       " (659, 654),\n",
       " (660, 654),\n",
       " (661, 654),\n",
       " (662, 654),\n",
       " (663, 654),\n",
       " (664, 654),\n",
       " (665, 654),\n",
       " (666, 654),\n",
       " (667, 666),\n",
       " (668, 666),\n",
       " (669, 666),\n",
       " (670, 666),\n",
       " (671, 666),\n",
       " (672, 666),\n",
       " (673, 666),\n",
       " (674, 666),\n",
       " (675, 666),\n",
       " (676, 666),\n",
       " (677, 666),\n",
       " (678, 666),\n",
       " (679, 666),\n",
       " (680, 679),\n",
       " (681, 679),\n",
       " (682, 679),\n",
       " (683, 679),\n",
       " (684, 683),\n",
       " (685, 683),\n",
       " (686, 683),\n",
       " (687, 683),\n",
       " (688, 683),\n",
       " (689, 683),\n",
       " (690, 683),\n",
       " (691, 683),\n",
       " (692, 683),\n",
       " (693, 683),\n",
       " (694, 683),\n",
       " (695, 683),\n",
       " (696, 683),\n",
       " (697, 683),\n",
       " (698, 697),\n",
       " (699, 697),\n",
       " (700, 697),\n",
       " (701, 697),\n",
       " (702, 697),\n",
       " (703, 697),\n",
       " (704, 697),\n",
       " (705, 697),\n",
       " (706, 697),\n",
       " (707, 697),\n",
       " (708, 697),\n",
       " (709, 697),\n",
       " (710, 709),\n",
       " (711, 709),\n",
       " (712, 709),\n",
       " (713, 709),\n",
       " (714, 709),\n",
       " (715, 709),\n",
       " (716, 709),\n",
       " (717, 709),\n",
       " (718, 709),\n",
       " (719, 709),\n",
       " (720, 719),\n",
       " (721, 719),\n",
       " (722, 719),\n",
       " (723, 719),\n",
       " (724, 719),\n",
       " (725, 719),\n",
       " (726, 719),\n",
       " (727, 719),\n",
       " (728, 719),\n",
       " (729, 719),\n",
       " (730, 719),\n",
       " (731, 730),\n",
       " (732, 730),\n",
       " (733, 730),\n",
       " (734, 730),\n",
       " (735, 730),\n",
       " (736, 730),\n",
       " (737, 730),\n",
       " (738, 730),\n",
       " (739, 730),\n",
       " (740, 730),\n",
       " (741, 730),\n",
       " (742, 730),\n",
       " (743, 742),\n",
       " (744, 742),\n",
       " (745, 742),\n",
       " (746, 742),\n",
       " (747, 742),\n",
       " (748, 742),\n",
       " (749, 742),\n",
       " (750, 742),\n",
       " (751, 742),\n",
       " (752, 742),\n",
       " (753, 742),\n",
       " (754, 742),\n",
       " (755, 742),\n",
       " (756, 742),\n",
       " (757, 742),\n",
       " (758, 742),\n",
       " (759, 742),\n",
       " (760, 742),\n",
       " (761, 742),\n",
       " (762, 742),\n",
       " (763, 742),\n",
       " (764, 742),\n",
       " (765, 742),\n",
       " (766, 742),\n",
       " (767, 742),\n",
       " (768, 742),\n",
       " (769, 742),\n",
       " (770, 742),\n",
       " (771, 742),\n",
       " (772, 742),\n",
       " (773, 742),\n",
       " (774, 742),\n",
       " (775, 774),\n",
       " (776, 774),\n",
       " (777, 774),\n",
       " (778, 774),\n",
       " (779, 774),\n",
       " (780, 774),\n",
       " (781, 774),\n",
       " (782, 774),\n",
       " (783, 774),\n",
       " (784, 774),\n",
       " (785, 774),\n",
       " (786, 785),\n",
       " (787, 785),\n",
       " (788, 785),\n",
       " (789, 785),\n",
       " (790, 789),\n",
       " (791, 789),\n",
       " (792, 789),\n",
       " (793, 789),\n",
       " (794, 789),\n",
       " (795, 789),\n",
       " (796, 789),\n",
       " (797, 789),\n",
       " (798, 789),\n",
       " (799, 789),\n",
       " (800, 789),\n",
       " (801, 789),\n",
       " (802, 789),\n",
       " (803, 789),\n",
       " (804, 789),\n",
       " (805, 789),\n",
       " (806, 789),\n",
       " (807, 789),\n",
       " (808, 789),\n",
       " (809, 808),\n",
       " (810, 808),\n",
       " (811, 808),\n",
       " (812, 808),\n",
       " (813, 808),\n",
       " (814, 808),\n",
       " (815, 814),\n",
       " (816, 814),\n",
       " (817, 814),\n",
       " (818, 814),\n",
       " (819, 814),\n",
       " (820, 814),\n",
       " (821, 814),\n",
       " (822, 814),\n",
       " (823, 814),\n",
       " (824, 814),\n",
       " (825, 814),\n",
       " (826, 814),\n",
       " (827, 814),\n",
       " (828, 814),\n",
       " (829, 814),\n",
       " (830, 814),\n",
       " (831, 814),\n",
       " (832, 814),\n",
       " (833, 814),\n",
       " (834, 814),\n",
       " (835, 814),\n",
       " (836, 814),\n",
       " (837, 814),\n",
       " (838, 814),\n",
       " (839, 814),\n",
       " (840, 814),\n",
       " (841, 814),\n",
       " (842, 814),\n",
       " (843, 814),\n",
       " (844, 814),\n",
       " (845, 814),\n",
       " (846, 814),\n",
       " (847, 814),\n",
       " (848, 814),\n",
       " (849, 814),\n",
       " (850, 814),\n",
       " (851, 814),\n",
       " (852, 814),\n",
       " (853, 814),\n",
       " (854, 814),\n",
       " (855, 814),\n",
       " (856, 814),\n",
       " (857, 814),\n",
       " (858, 814),\n",
       " (859, 814),\n",
       " (860, 814),\n",
       " (861, 860),\n",
       " (862, 860),\n",
       " (863, 860),\n",
       " (864, 860),\n",
       " (865, 860),\n",
       " (866, 860),\n",
       " (867, 860),\n",
       " (868, 860),\n",
       " (869, 860),\n",
       " (870, 860),\n",
       " (871, 860),\n",
       " (872, 860),\n",
       " (873, 860),\n",
       " (874, 873),\n",
       " (875, 873),\n",
       " (876, 873),\n",
       " (877, 873),\n",
       " (878, 873),\n",
       " (879, 878),\n",
       " (880, 878),\n",
       " (881, 878),\n",
       " (882, 878),\n",
       " (883, 878),\n",
       " (884, 878),\n",
       " (885, 878),\n",
       " (886, 878),\n",
       " (887, 878),\n",
       " (888, 878),\n",
       " (889, 888),\n",
       " (890, 888),\n",
       " (891, 888),\n",
       " (892, 888),\n",
       " (893, 888),\n",
       " (894, 888),\n",
       " (895, 888),\n",
       " (896, 888),\n",
       " (897, 888),\n",
       " (898, 888),\n",
       " (899, 888),\n",
       " (900, 888),\n",
       " (901, 888),\n",
       " (902, 888),\n",
       " (903, 888),\n",
       " (904, 888),\n",
       " (905, 888),\n",
       " (906, 888),\n",
       " (907, 888),\n",
       " (908, 888),\n",
       " (909, 888),\n",
       " (910, 888),\n",
       " (911, 888),\n",
       " (912, 888),\n",
       " (913, 888),\n",
       " (914, 888),\n",
       " (915, 888),\n",
       " (916, 915),\n",
       " (917, 915),\n",
       " (918, 915),\n",
       " (919, 915),\n",
       " (920, 915),\n",
       " (921, 915),\n",
       " (922, 915),\n",
       " (923, 915),\n",
       " (924, 915),\n",
       " (925, 915),\n",
       " (926, 915),\n",
       " (927, 915),\n",
       " (928, 915),\n",
       " (929, 915),\n",
       " (930, 915),\n",
       " (931, 915),\n",
       " (932, 915),\n",
       " (933, 915),\n",
       " (934, 915),\n",
       " (935, 915),\n",
       " (936, 915),\n",
       " (937, 915),\n",
       " (938, 915),\n",
       " (939, 915),\n",
       " (940, 915),\n",
       " (941, 915),\n",
       " (942, 915),\n",
       " (943, 915),\n",
       " (944, 915),\n",
       " (945, 915),\n",
       " (946, 915),\n",
       " (947, 915),\n",
       " (948, 915),\n",
       " (949, 915),\n",
       " (950, 915),\n",
       " (951, 915),\n",
       " (952, 915),\n",
       " (953, 915),\n",
       " (954, 915),\n",
       " (955, 915),\n",
       " (956, 915),\n",
       " (957, 915),\n",
       " (958, 915),\n",
       " (959, 958),\n",
       " (960, 958),\n",
       " (961, 958),\n",
       " (962, 958),\n",
       " (963, 958),\n",
       " (964, 963),\n",
       " (965, 963),\n",
       " (966, 963),\n",
       " (967, 963),\n",
       " (968, 963),\n",
       " (969, 963),\n",
       " (970, 963),\n",
       " (971, 963),\n",
       " (972, 971),\n",
       " (973, 971),\n",
       " (974, 971),\n",
       " (975, 971),\n",
       " (976, 971),\n",
       " (977, 971),\n",
       " (978, 971),\n",
       " (979, 971),\n",
       " (980, 971),\n",
       " (981, 971),\n",
       " (982, 971),\n",
       " (983, 971),\n",
       " (984, 971),\n",
       " (985, 971),\n",
       " (986, 985),\n",
       " (987, 985),\n",
       " (988, 985),\n",
       " (989, 985),\n",
       " (990, 985),\n",
       " (991, 985),\n",
       " (992, 985),\n",
       " (993, 985),\n",
       " (994, 985),\n",
       " (995, 985),\n",
       " (996, 985),\n",
       " (997, 985),\n",
       " (998, 985),\n",
       " (999, 985),\n",
       " ...]"
      ]
     },
     "execution_count": 12,
     "metadata": {},
     "output_type": "execute_result"
    }
   ],
   "source": [
    "counter = 0\n",
    "for i in levels:\n",
    "    counter = counter + 1\n",
    "len1 = counter\n",
    "len1\n",
    "\n",
    "x = df[df.columns[0]].count()\n",
    "\n",
    "def levelsDaysMapping(x):\n",
    "  mapping = []\n",
    "  c = 0\n",
    "  j = 0\n",
    "  while(j <= levels[c][0]):\n",
    "    mapping.append((j,-1))\n",
    "    j = j + 1    \n",
    "  for i in range(j,x):\n",
    "    if ((c+1)<len1):\n",
    "      if (i > levels[c+1][0]):\n",
    "        c = c + 1\n",
    "      mapping.append((i,levels[c][0]))\n",
    "  return mapping\n",
    "newMapping = []\n",
    "newMapping = levelsDaysMapping(x)\n",
    "newMapping"
   ]
  },
  {
   "cell_type": "code",
   "execution_count": 78,
   "id": "c909afb5",
   "metadata": {},
   "outputs": [
    {
     "data": {
      "text/html": [
       "<div>\n",
       "<style scoped>\n",
       "    .dataframe tbody tr th:only-of-type {\n",
       "        vertical-align: middle;\n",
       "    }\n",
       "\n",
       "    .dataframe tbody tr th {\n",
       "        vertical-align: top;\n",
       "    }\n",
       "\n",
       "    .dataframe thead th {\n",
       "        text-align: right;\n",
       "    }\n",
       "</style>\n",
       "<table border=\"1\" class=\"dataframe\">\n",
       "  <thead>\n",
       "    <tr style=\"text-align: right;\">\n",
       "      <th></th>\n",
       "      <th>Open</th>\n",
       "    </tr>\n",
       "  </thead>\n",
       "  <tbody>\n",
       "  </tbody>\n",
       "</table>\n",
       "</div>"
      ],
      "text/plain": [
       "Empty DataFrame\n",
       "Columns: [Open]\n",
       "Index: []"
      ]
     },
     "execution_count": 78,
     "metadata": {},
     "output_type": "execute_result"
    }
   ],
   "source": [
    "df[\"open\"]"
   ]
  },
  {
   "cell_type": "code",
   "execution_count": 69,
   "id": "7ab67175",
   "metadata": {
    "scrolled": true
   },
   "outputs": [
    {
     "data": {
      "text/plain": [
       "Date\n",
       "2022-01-28    8.900642\n",
       "2022-01-31    8.862068\n",
       "2022-02-01    8.997074\n",
       "2022-02-02    9.045290\n",
       "2022-02-03    9.016360\n",
       "                ...   \n",
       "2023-01-23    7.840000\n",
       "2023-01-24    7.900000\n",
       "2023-01-25    7.910000\n",
       "2023-01-26    7.860000\n",
       "2023-01-27    7.910000\n",
       "Name: Open, Length: 251, dtype: float64"
      ]
     },
     "execution_count": 69,
     "metadata": {},
     "output_type": "execute_result"
    }
   ],
   "source": [
    "open2"
   ]
  },
  {
   "cell_type": "code",
   "execution_count": 11,
   "id": "722620e3",
   "metadata": {},
   "outputs": [
    {
     "name": "stdout",
     "output_type": "stream",
     "text": [
      "Requirement already satisfied: alpaca_trade_api in c:\\users\\krutu\\anaconda3\\lib\\site-packages (2.3.0)\n",
      "Requirement already satisfied: websocket-client<2,>=0.56.0 in c:\\users\\krutu\\anaconda3\\lib\\site-packages (from alpaca_trade_api) (1.5.0)\n",
      "Requirement already satisfied: websockets<11,>=9.0 in c:\\users\\krutu\\anaconda3\\lib\\site-packages (from alpaca_trade_api) (10.4)\n",
      "Requirement already satisfied: numpy>=1.11.1 in c:\\users\\krutu\\anaconda3\\lib\\site-packages (from alpaca_trade_api) (1.20.3)\n",
      "Requirement already satisfied: requests<3,>2 in c:\\users\\krutu\\anaconda3\\lib\\site-packages (from alpaca_trade_api) (2.26.0)\n",
      "Requirement already satisfied: deprecation==2.1.0 in c:\\users\\krutu\\anaconda3\\lib\\site-packages (from alpaca_trade_api) (2.1.0)\n",
      "Requirement already satisfied: aiohttp==3.8.1 in c:\\users\\krutu\\anaconda3\\lib\\site-packages (from alpaca_trade_api) (3.8.1)\n",
      "Requirement already satisfied: msgpack==1.0.3 in c:\\users\\krutu\\anaconda3\\lib\\site-packages (from alpaca_trade_api) (1.0.3)\n",
      "Requirement already satisfied: pandas>=0.18.1 in c:\\users\\krutu\\anaconda3\\lib\\site-packages (from alpaca_trade_api) (1.3.4)\n",
      "Requirement already satisfied: urllib3<2,>1.24 in c:\\users\\krutu\\anaconda3\\lib\\site-packages (from alpaca_trade_api) (1.26.7)\n",
      "Requirement already satisfied: PyYAML==6.0 in c:\\users\\krutu\\anaconda3\\lib\\site-packages (from alpaca_trade_api) (6.0)\n",
      "Requirement already satisfied: attrs>=17.3.0 in c:\\users\\krutu\\anaconda3\\lib\\site-packages (from aiohttp==3.8.1->alpaca_trade_api) (21.2.0)\n",
      "Requirement already satisfied: multidict<7.0,>=4.5 in c:\\users\\krutu\\anaconda3\\lib\\site-packages (from aiohttp==3.8.1->alpaca_trade_api) (6.0.4)\n",
      "Requirement already satisfied: yarl<2.0,>=1.0 in c:\\users\\krutu\\anaconda3\\lib\\site-packages (from aiohttp==3.8.1->alpaca_trade_api) (1.8.2)\n",
      "Requirement already satisfied: async-timeout<5.0,>=4.0.0a3 in c:\\users\\krutu\\anaconda3\\lib\\site-packages (from aiohttp==3.8.1->alpaca_trade_api) (4.0.2)\n",
      "Requirement already satisfied: aiosignal>=1.1.2 in c:\\users\\krutu\\anaconda3\\lib\\site-packages (from aiohttp==3.8.1->alpaca_trade_api) (1.3.1)\n",
      "Requirement already satisfied: charset-normalizer<3.0,>=2.0 in c:\\users\\krutu\\anaconda3\\lib\\site-packages (from aiohttp==3.8.1->alpaca_trade_api) (2.0.4)\n",
      "Requirement already satisfied: frozenlist>=1.1.1 in c:\\users\\krutu\\anaconda3\\lib\\site-packages (from aiohttp==3.8.1->alpaca_trade_api) (1.3.3)\n",
      "Requirement already satisfied: packaging in c:\\users\\krutu\\anaconda3\\lib\\site-packages (from deprecation==2.1.0->alpaca_trade_api) (21.0)\n",
      "Requirement already satisfied: python-dateutil>=2.7.3 in c:\\users\\krutu\\anaconda3\\lib\\site-packages (from pandas>=0.18.1->alpaca_trade_api) (2.8.2)\n",
      "Requirement already satisfied: pytz>=2017.3 in c:\\users\\krutu\\anaconda3\\lib\\site-packages (from pandas>=0.18.1->alpaca_trade_api) (2021.3)\n",
      "Requirement already satisfied: six>=1.5 in c:\\users\\krutu\\anaconda3\\lib\\site-packages (from python-dateutil>=2.7.3->pandas>=0.18.1->alpaca_trade_api) (1.16.0)\n",
      "Requirement already satisfied: idna<4,>=2.5 in c:\\users\\krutu\\anaconda3\\lib\\site-packages (from requests<3,>2->alpaca_trade_api) (3.2)\n",
      "Requirement already satisfied: certifi>=2017.4.17 in c:\\users\\krutu\\anaconda3\\lib\\site-packages (from requests<3,>2->alpaca_trade_api) (2021.10.8)\n",
      "Requirement already satisfied: pyparsing>=2.0.2 in c:\\users\\krutu\\anaconda3\\lib\\site-packages (from packaging->deprecation==2.1.0->alpaca_trade_api) (3.0.4)\n"
     ]
    }
   ],
   "source": [
    "import pandas as pd\n",
    "from datetime import timedelta\n",
    "!pip install alpaca_trade_api\n",
    "import alpaca_trade_api as tradeapi\n",
    "\n",
    "api = tradeapi.REST('YOUR API KEY HERE',\n",
    "                    'YOUR API SECRET CODE HERE', \n",
    "                    'https://paper-api.alpaca.markets')\n",
    "\n",
    "def get_data(symbol, lookback):\n",
    "    all_data = pd.DataFrame()\n",
    "    for x in range(lookback):\n",
    "        if x == 0:\n",
    "            data = api.polygon.historic_agg('minute', symbol, limit=None).df\n",
    "        else:\n",
    "            data = api.polygon.historic_agg('minute', symbol, _from = (data.index.min() - timedelta(days=5)).strftime('%x %X'), to = start, limit = None).df\n",
    "        start = data.index.min().strftime('%x %X')\n",
    "        end = data.index.max().strftime('%x %X')\n",
    "        all_data = pd.concat([data, all_data], axis=0)\n",
    "    all_data.drop(columns=['volume'], inplace=True)\n",
    "    all_data.dropna(inplace=True)\n",
    "    all_data = all_data[~all_data.index.duplicated()]\n",
    "    all_data.replace(0, method='bfill', inplace=True)\n",
    "    return all_data"
   ]
  },
  {
   "cell_type": "code",
   "execution_count": 12,
   "id": "59ad611e",
   "metadata": {},
   "outputs": [
    {
     "ename": "AttributeError",
     "evalue": "'REST' object has no attribute 'polygon'",
     "output_type": "error",
     "traceback": [
      "\u001b[1;31m---------------------------------------------------------------------------\u001b[0m",
      "\u001b[1;31mAttributeError\u001b[0m                            Traceback (most recent call last)",
      "\u001b[1;32m~\\AppData\\Local\\Temp/ipykernel_6420/1244837435.py\u001b[0m in \u001b[0;36m<module>\u001b[1;34m\u001b[0m\n\u001b[1;32m----> 1\u001b[1;33m \u001b[0mdata\u001b[0m \u001b[1;33m=\u001b[0m \u001b[0mget_data\u001b[0m\u001b[1;33m(\u001b[0m\u001b[1;34m'CAT'\u001b[0m\u001b[1;33m,\u001b[0m \u001b[1;36m3\u001b[0m\u001b[1;33m)\u001b[0m\u001b[1;33m\u001b[0m\u001b[1;33m\u001b[0m\u001b[0m\n\u001b[0m\u001b[0;32m      2\u001b[0m \u001b[0mdata\u001b[0m\u001b[1;33m\u001b[0m\u001b[1;33m\u001b[0m\u001b[0m\n",
      "\u001b[1;32m~\\AppData\\Local\\Temp/ipykernel_6420/2797529527.py\u001b[0m in \u001b[0;36mget_data\u001b[1;34m(symbol, lookback)\u001b[0m\n\u001b[0;32m     12\u001b[0m     \u001b[1;32mfor\u001b[0m \u001b[0mx\u001b[0m \u001b[1;32min\u001b[0m \u001b[0mrange\u001b[0m\u001b[1;33m(\u001b[0m\u001b[0mlookback\u001b[0m\u001b[1;33m)\u001b[0m\u001b[1;33m:\u001b[0m\u001b[1;33m\u001b[0m\u001b[1;33m\u001b[0m\u001b[0m\n\u001b[0;32m     13\u001b[0m         \u001b[1;32mif\u001b[0m \u001b[0mx\u001b[0m \u001b[1;33m==\u001b[0m \u001b[1;36m0\u001b[0m\u001b[1;33m:\u001b[0m\u001b[1;33m\u001b[0m\u001b[1;33m\u001b[0m\u001b[0m\n\u001b[1;32m---> 14\u001b[1;33m             \u001b[0mdata\u001b[0m \u001b[1;33m=\u001b[0m \u001b[0mapi\u001b[0m\u001b[1;33m.\u001b[0m\u001b[0mpolygon\u001b[0m\u001b[1;33m.\u001b[0m\u001b[0mhistoric_agg\u001b[0m\u001b[1;33m(\u001b[0m\u001b[1;34m'minute'\u001b[0m\u001b[1;33m,\u001b[0m \u001b[0msymbol\u001b[0m\u001b[1;33m,\u001b[0m \u001b[0mlimit\u001b[0m\u001b[1;33m=\u001b[0m\u001b[1;32mNone\u001b[0m\u001b[1;33m)\u001b[0m\u001b[1;33m.\u001b[0m\u001b[0mdf\u001b[0m\u001b[1;33m\u001b[0m\u001b[1;33m\u001b[0m\u001b[0m\n\u001b[0m\u001b[0;32m     15\u001b[0m         \u001b[1;32melse\u001b[0m\u001b[1;33m:\u001b[0m\u001b[1;33m\u001b[0m\u001b[1;33m\u001b[0m\u001b[0m\n\u001b[0;32m     16\u001b[0m             \u001b[0mdata\u001b[0m \u001b[1;33m=\u001b[0m \u001b[0mapi\u001b[0m\u001b[1;33m.\u001b[0m\u001b[0mpolygon\u001b[0m\u001b[1;33m.\u001b[0m\u001b[0mhistoric_agg\u001b[0m\u001b[1;33m(\u001b[0m\u001b[1;34m'minute'\u001b[0m\u001b[1;33m,\u001b[0m \u001b[0msymbol\u001b[0m\u001b[1;33m,\u001b[0m \u001b[0m_from\u001b[0m \u001b[1;33m=\u001b[0m \u001b[1;33m(\u001b[0m\u001b[0mdata\u001b[0m\u001b[1;33m.\u001b[0m\u001b[0mindex\u001b[0m\u001b[1;33m.\u001b[0m\u001b[0mmin\u001b[0m\u001b[1;33m(\u001b[0m\u001b[1;33m)\u001b[0m \u001b[1;33m-\u001b[0m \u001b[0mtimedelta\u001b[0m\u001b[1;33m(\u001b[0m\u001b[0mdays\u001b[0m\u001b[1;33m=\u001b[0m\u001b[1;36m5\u001b[0m\u001b[1;33m)\u001b[0m\u001b[1;33m)\u001b[0m\u001b[1;33m.\u001b[0m\u001b[0mstrftime\u001b[0m\u001b[1;33m(\u001b[0m\u001b[1;34m'%x %X'\u001b[0m\u001b[1;33m)\u001b[0m\u001b[1;33m,\u001b[0m \u001b[0mto\u001b[0m \u001b[1;33m=\u001b[0m \u001b[0mstart\u001b[0m\u001b[1;33m,\u001b[0m \u001b[0mlimit\u001b[0m \u001b[1;33m=\u001b[0m \u001b[1;32mNone\u001b[0m\u001b[1;33m)\u001b[0m\u001b[1;33m.\u001b[0m\u001b[0mdf\u001b[0m\u001b[1;33m\u001b[0m\u001b[1;33m\u001b[0m\u001b[0m\n",
      "\u001b[1;31mAttributeError\u001b[0m: 'REST' object has no attribute 'polygon'"
     ]
    }
   ],
   "source": []
  },
  {
   "cell_type": "code",
   "execution_count": 8,
   "id": "807e95dd",
   "metadata": {},
   "outputs": [],
   "source": [
    "import numpy as np\n",
    "from scipy.signal import argrelextrema\n",
    "from datetime import timedelta\n",
    "\n",
    "prices = df\n",
    "ema_list = [5]\n",
    "window_list = [5]\n",
    "\n",
    "\n",
    "resampled_data = prices.resample('60T', closed='right', label='right').agg({'Open': 'first',\n",
    "                                                                         'High': 'max',\n",
    "                                                                         'Low': 'min',\n",
    "                                                                         'Close': 'last'}).dropna()\n",
    "\n",
    "\n",
    "\n",
    "\n",
    "\n",
    "def get_max_min(prices, smoothing, window_range):\n",
    "    smooth_prices = prices['Close'].rolling(window=smoothing).mean().dropna()\n",
    "    local_max = argrelextrema(smooth_prices.values, np.greater)[0]\n",
    "    local_min = argrelextrema(smooth_prices.values, np.less)[0]\n",
    "    price_local_max_dt = []\n",
    "    for i in local_max:\n",
    "        if (i>window_range) and (i<len(prices)-window_range):\n",
    "            price_local_max_dt.append(prices.iloc[i-window_range:i+window_range]['Close'].idxmax())\n",
    "    price_local_min_dt = []\n",
    "    for i in local_min:\n",
    "        if (i>window_range) and (i<len(prices)-window_range):\n",
    "            price_local_min_dt.append(prices.iloc[i-window_range:i+window_range]['Close'].idxmin())  \n",
    "    maxima = pd.DataFrame(prices.loc[price_local_max_dt])\n",
    "    minima = pd.DataFrame(prices.loc[price_local_min_dt])\n",
    "    max_min = pd.concat([maxima, minima]).sort_index()\n",
    "    max_min.index.name = 'date'\n",
    "    max_min = max_min.reset_index()\n",
    "    max_min = max_min[~max_min.date.duplicated()]\n",
    "    p = prices.reset_index()   \n",
    "    max_min['day_num'] = p[p['Date'].isin(max_min.date)].index.values\n",
    "    max_min = max_min.set_index('day_num')['Close']\n",
    "    \n",
    "    return max_min"
   ]
  },
  {
   "cell_type": "code",
   "execution_count": 9,
   "id": "65212d13",
   "metadata": {
    "scrolled": true
   },
   "outputs": [
    {
     "data": {
      "text/plain": [
       "day_num\n",
       "2      1749.255371\n",
       "8      1732.125854\n",
       "18     1642.612549\n",
       "21     1666.740601\n",
       "22     1684.408203\n",
       "25     1740.543823\n",
       "29     1850.661377\n",
       "40     1863.630737\n",
       "41     1866.469360\n",
       "43     1843.075439\n",
       "46     1772.649170\n",
       "47     1776.172974\n",
       "54     1584.519409\n",
       "61     1508.366943\n",
       "62     1503.032349\n",
       "63     1551.582031\n",
       "65     1537.095337\n",
       "69     1472.541992\n",
       "77     1380.581421\n",
       "85     1513.509521\n",
       "88     1498.622192\n",
       "94     1372.302734\n",
       "109    1498.078125\n",
       "113    1413.403442\n",
       "125    1534.282471\n",
       "132    1602.437622\n",
       "143    1445.947876\n",
       "153    1528.248413\n",
       "154    1459.450317\n",
       "155    1417.310913\n",
       "161    1350.688843\n",
       "162    1365.328857\n",
       "174    1404.550293\n",
       "177    1487.444336\n",
       "180    1484.278931\n",
       "186    1573.000000\n",
       "192    1501.949951\n",
       "194    1585.300049\n",
       "199    1568.199951\n",
       "203    1635.650024\n",
       "207    1657.099976\n",
       "212    1620.150024\n",
       "216    1579.400024\n",
       "220    1507.300049\n",
       "223    1497.099976\n",
       "229    1524.000000\n",
       "232    1475.199951\n",
       "233    1448.500000\n",
       "241    1545.400024\n",
       "Name: Close, dtype: float64"
      ]
     },
     "execution_count": 9,
     "metadata": {},
     "output_type": "execute_result"
    }
   ],
   "source": [
    "smoothing = 3\n",
    "window = 10\n",
    "\n",
    "minmax = get_max_min(resampled_data, smoothing, window)\n",
    "minmax"
   ]
  },
  {
   "cell_type": "code",
   "execution_count": 7,
   "id": "2ec8d3d8",
   "metadata": {},
   "outputs": [
    {
     "ename": "TypeError",
     "evalue": "'tuple' object is not callable",
     "output_type": "error",
     "traceback": [
      "\u001b[1;31m---------------------------------------------------------------------------\u001b[0m",
      "\u001b[1;31mTypeError\u001b[0m                                 Traceback (most recent call last)",
      "\u001b[1;32m~\\AppData\\Local\\Temp/ipykernel_15672/1168283329.py\u001b[0m in \u001b[0;36m<module>\u001b[1;34m\u001b[0m\n\u001b[1;32m----> 1\u001b[1;33m \u001b[0mminmax\u001b[0m\u001b[1;33m.\u001b[0m\u001b[0mshape\u001b[0m\u001b[1;33m(\u001b[0m\u001b[1;33m)\u001b[0m\u001b[1;33m\u001b[0m\u001b[1;33m\u001b[0m\u001b[0m\n\u001b[0m",
      "\u001b[1;31mTypeError\u001b[0m: 'tuple' object is not callable"
     ]
    }
   ],
   "source": []
  },
  {
   "cell_type": "code",
   "execution_count": 10,
   "id": "a602ced1",
   "metadata": {},
   "outputs": [
    {
     "data": {
      "text/plain": [
       "<matplotlib.collections.PathCollection at 0x1abf5610460>"
      ]
     },
     "execution_count": 10,
     "metadata": {},
     "output_type": "execute_result"
    },
    {
     "data": {
      "image/png": "[encoded data removed]",
      "text/plain": [
       "<Figure size 432x288 with 1 Axes>"
      ]
     },
     "metadata": {
      "needs_background": "light"
     },
     "output_type": "display_data"
    }
   ],
   "source": [
    "resampled_data.reset_index()['Close'].plot()\n",
    "plt.scatter(minmax.index,minmax.values,color='orange',alpha=.5)"
   ]
  },
  {
   "cell_type": "code",
   "execution_count": 5,
   "id": "f3cf1971",
   "metadata": {},
   "outputs": [],
   "source": [
    "from collections import defaultdict\n",
    "\n",
    "def find_patterns(max_min):  \n",
    "    patterns = defaultdict(list)\n",
    "    \n",
    "    # Window range is 5 units\n",
    "    for i in range(5, len(max_min)):  \n",
    "        window = max_min.iloc[i-5:i]\n",
    "        \n",
    "        # Pattern must play out in less than n units\n",
    "        if window.index[-1] - window.index[0] > 100:      \n",
    "            continue   \n",
    "            \n",
    "        a, b, c, d, e = window.iloc[0:5]\n",
    "                \n",
    "        # IHS\n",
    "        if a<b and c<a and c<e and c<d and e<d and abs(b-d)<=np.mean([b,d])*0.02:\n",
    "               patterns['IHS'].append((window.index[0], window.index[-1]))\n",
    "        \n",
    "    return patterns"
   ]
  },
  {
   "cell_type": "code",
   "execution_count": 6,
   "id": "0f895f1e",
   "metadata": {},
   "outputs": [
    {
     "data": {
      "text/plain": [
       "defaultdict(list, {'IHS': [(345, 370), (533, 559), (904, 943)]})"
      ]
     },
     "execution_count": 6,
     "metadata": {},
     "output_type": "execute_result"
    }
   ],
   "source": [
    "patterns = find_patterns(minmax)\n",
    "patterns"
   ]
  },
  {
   "cell_type": "code",
   "execution_count": 45,
   "id": "3daaefae",
   "metadata": {},
   "outputs": [
    {
     "data": {
      "text/html": [
       "<div>\n",
       "<style scoped>\n",
       "    .dataframe tbody tr th:only-of-type {\n",
       "        vertical-align: middle;\n",
       "    }\n",
       "\n",
       "    .dataframe tbody tr th {\n",
       "        vertical-align: top;\n",
       "    }\n",
       "\n",
       "    .dataframe thead th {\n",
       "        text-align: right;\n",
       "    }\n",
       "</style>\n",
       "<table border=\"1\" class=\"dataframe\">\n",
       "  <thead>\n",
       "    <tr style=\"text-align: right;\">\n",
       "      <th></th>\n",
       "      <th>Open</th>\n",
       "      <th>High</th>\n",
       "      <th>Low</th>\n",
       "      <th>Close</th>\n",
       "      <th>Volume</th>\n",
       "      <th>Dividends</th>\n",
       "      <th>Stock Splits</th>\n",
       "    </tr>\n",
       "    <tr>\n",
       "      <th>Date</th>\n",
       "      <th></th>\n",
       "      <th></th>\n",
       "      <th></th>\n",
       "      <th></th>\n",
       "      <th></th>\n",
       "      <th></th>\n",
       "      <th></th>\n",
       "    </tr>\n",
       "  </thead>\n",
       "  <tbody>\n",
       "    <tr>\n",
       "      <th>2013-01-28</th>\n",
       "      <td>5.145158</td>\n",
       "      <td>5.146136</td>\n",
       "      <td>5.081565</td>\n",
       "      <td>5.107980</td>\n",
       "      <td>9394400</td>\n",
       "      <td>0.0</td>\n",
       "      <td>0.0</td>\n",
       "    </tr>\n",
       "    <tr>\n",
       "      <th>2013-01-29</th>\n",
       "      <td>5.123634</td>\n",
       "      <td>5.148092</td>\n",
       "      <td>5.089391</td>\n",
       "      <td>5.131461</td>\n",
       "      <td>8425600</td>\n",
       "      <td>0.0</td>\n",
       "      <td>0.0</td>\n",
       "    </tr>\n",
       "    <tr>\n",
       "      <th>2013-01-30</th>\n",
       "      <td>5.145158</td>\n",
       "      <td>5.191140</td>\n",
       "      <td>5.120699</td>\n",
       "      <td>5.168638</td>\n",
       "      <td>13819200</td>\n",
       "      <td>0.0</td>\n",
       "      <td>0.0</td>\n",
       "    </tr>\n",
       "    <tr>\n",
       "      <th>2013-01-31</th>\n",
       "      <td>5.118742</td>\n",
       "      <td>5.173530</td>\n",
       "      <td>5.107002</td>\n",
       "      <td>5.157876</td>\n",
       "      <td>15996800</td>\n",
       "      <td>0.0</td>\n",
       "      <td>0.0</td>\n",
       "    </tr>\n",
       "    <tr>\n",
       "      <th>2013-02-01</th>\n",
       "      <td>5.135375</td>\n",
       "      <td>5.171574</td>\n",
       "      <td>5.106024</td>\n",
       "      <td>5.167660</td>\n",
       "      <td>13364800</td>\n",
       "      <td>0.0</td>\n",
       "      <td>0.0</td>\n",
       "    </tr>\n",
       "    <tr>\n",
       "      <th>...</th>\n",
       "      <td>...</td>\n",
       "      <td>...</td>\n",
       "      <td>...</td>\n",
       "      <td>...</td>\n",
       "      <td>...</td>\n",
       "      <td>...</td>\n",
       "      <td>...</td>\n",
       "    </tr>\n",
       "    <tr>\n",
       "      <th>2023-01-23</th>\n",
       "      <td>18.910000</td>\n",
       "      <td>19.110001</td>\n",
       "      <td>18.820000</td>\n",
       "      <td>19.049999</td>\n",
       "      <td>4319100</td>\n",
       "      <td>0.0</td>\n",
       "      <td>0.0</td>\n",
       "    </tr>\n",
       "    <tr>\n",
       "      <th>2023-01-24</th>\n",
       "      <td>18.969999</td>\n",
       "      <td>19.000000</td>\n",
       "      <td>18.840000</td>\n",
       "      <td>18.900000</td>\n",
       "      <td>7045600</td>\n",
       "      <td>0.0</td>\n",
       "      <td>0.0</td>\n",
       "    </tr>\n",
       "    <tr>\n",
       "      <th>2023-01-25</th>\n",
       "      <td>18.730000</td>\n",
       "      <td>18.740000</td>\n",
       "      <td>18.540001</td>\n",
       "      <td>18.620001</td>\n",
       "      <td>8245400</td>\n",
       "      <td>0.0</td>\n",
       "      <td>0.0</td>\n",
       "    </tr>\n",
       "    <tr>\n",
       "      <th>2023-01-26</th>\n",
       "      <td>18.690001</td>\n",
       "      <td>18.959999</td>\n",
       "      <td>18.590000</td>\n",
       "      <td>18.940001</td>\n",
       "      <td>6245500</td>\n",
       "      <td>0.0</td>\n",
       "      <td>0.0</td>\n",
       "    </tr>\n",
       "    <tr>\n",
       "      <th>2023-01-27</th>\n",
       "      <td>18.620001</td>\n",
       "      <td>18.760000</td>\n",
       "      <td>18.500000</td>\n",
       "      <td>18.660000</td>\n",
       "      <td>5411100</td>\n",
       "      <td>0.0</td>\n",
       "      <td>0.0</td>\n",
       "    </tr>\n",
       "  </tbody>\n",
       "</table>\n",
       "<p>2519 rows × 7 columns</p>\n",
       "</div>"
      ],
      "text/plain": [
       "                 Open       High        Low      Close    Volume  Dividends  \\\n",
       "Date                                                                          \n",
       "2013-01-28   5.145158   5.146136   5.081565   5.107980   9394400        0.0   \n",
       "2013-01-29   5.123634   5.148092   5.089391   5.131461   8425600        0.0   \n",
       "2013-01-30   5.145158   5.191140   5.120699   5.168638  13819200        0.0   \n",
       "2013-01-31   5.118742   5.173530   5.107002   5.157876  15996800        0.0   \n",
       "2013-02-01   5.135375   5.171574   5.106024   5.167660  13364800        0.0   \n",
       "...               ...        ...        ...        ...       ...        ...   \n",
       "2023-01-23  18.910000  19.110001  18.820000  19.049999   4319100        0.0   \n",
       "2023-01-24  18.969999  19.000000  18.840000  18.900000   7045600        0.0   \n",
       "2023-01-25  18.730000  18.740000  18.540001  18.620001   8245400        0.0   \n",
       "2023-01-26  18.690001  18.959999  18.590000  18.940001   6245500        0.0   \n",
       "2023-01-27  18.620001  18.760000  18.500000  18.660000   5411100        0.0   \n",
       "\n",
       "            Stock Splits  \n",
       "Date                      \n",
       "2013-01-28           0.0  \n",
       "2013-01-29           0.0  \n",
       "2013-01-30           0.0  \n",
       "2013-01-31           0.0  \n",
       "2013-02-01           0.0  \n",
       "...                  ...  \n",
       "2023-01-23           0.0  \n",
       "2023-01-24           0.0  \n",
       "2023-01-25           0.0  \n",
       "2023-01-26           0.0  \n",
       "2023-01-27           0.0  \n",
       "\n",
       "[2519 rows x 7 columns]"
      ]
     },
     "execution_count": 45,
     "metadata": {},
     "output_type": "execute_result"
    }
   ],
   "source": [
    "df"
   ]
  },
  {
   "cell_type": "code",
   "execution_count": 2,
   "id": "f440b5d4",
   "metadata": {},
   "outputs": [
    {
     "ename": "KeyError",
     "evalue": "'Date'",
     "output_type": "error",
     "traceback": [
      "\u001b[1;31m---------------------------------------------------------------------------\u001b[0m",
      "\u001b[1;31mKeyError\u001b[0m                                  Traceback (most recent call last)",
      "\u001b[1;32m~\\anaconda3\\lib\\site-packages\\pandas\\core\\indexes\\base.py\u001b[0m in \u001b[0;36mget_loc\u001b[1;34m(self, key, method, tolerance)\u001b[0m\n\u001b[0;32m   3360\u001b[0m             \u001b[1;32mtry\u001b[0m\u001b[1;33m:\u001b[0m\u001b[1;33m\u001b[0m\u001b[1;33m\u001b[0m\u001b[0m\n\u001b[1;32m-> 3361\u001b[1;33m                 \u001b[1;32mreturn\u001b[0m \u001b[0mself\u001b[0m\u001b[1;33m.\u001b[0m\u001b[0m_engine\u001b[0m\u001b[1;33m.\u001b[0m\u001b[0mget_loc\u001b[0m\u001b[1;33m(\u001b[0m\u001b[0mcasted_key\u001b[0m\u001b[1;33m)\u001b[0m\u001b[1;33m\u001b[0m\u001b[1;33m\u001b[0m\u001b[0m\n\u001b[0m\u001b[0;32m   3362\u001b[0m             \u001b[1;32mexcept\u001b[0m \u001b[0mKeyError\u001b[0m \u001b[1;32mas\u001b[0m \u001b[0merr\u001b[0m\u001b[1;33m:\u001b[0m\u001b[1;33m\u001b[0m\u001b[1;33m\u001b[0m\u001b[0m\n",
      "\u001b[1;32m~\\anaconda3\\lib\\site-packages\\pandas\\_libs\\index.pyx\u001b[0m in \u001b[0;36mpandas._libs.index.IndexEngine.get_loc\u001b[1;34m()\u001b[0m\n",
      "\u001b[1;32m~\\anaconda3\\lib\\site-packages\\pandas\\_libs\\index.pyx\u001b[0m in \u001b[0;36mpandas._libs.index.IndexEngine.get_loc\u001b[1;34m()\u001b[0m\n",
      "\u001b[1;32mpandas\\_libs\\hashtable_class_helper.pxi\u001b[0m in \u001b[0;36mpandas._libs.hashtable.PyObjectHashTable.get_item\u001b[1;34m()\u001b[0m\n",
      "\u001b[1;32mpandas\\_libs\\hashtable_class_helper.pxi\u001b[0m in \u001b[0;36mpandas._libs.hashtable.PyObjectHashTable.get_item\u001b[1;34m()\u001b[0m\n",
      "\u001b[1;31mKeyError\u001b[0m: 'Date'",
      "\nThe above exception was the direct cause of the following exception:\n",
      "\u001b[1;31mKeyError\u001b[0m                                  Traceback (most recent call last)",
      "\u001b[1;32m~\\AppData\\Local\\Temp/ipykernel_17436/2192593792.py\u001b[0m in \u001b[0;36m<module>\u001b[1;34m\u001b[0m\n\u001b[0;32m      2\u001b[0m \u001b[0mhigh\u001b[0m \u001b[1;33m=\u001b[0m \u001b[0mdf\u001b[0m\u001b[1;33m[\u001b[0m\u001b[1;34m'High'\u001b[0m\u001b[1;33m]\u001b[0m\u001b[1;33m\u001b[0m\u001b[1;33m\u001b[0m\u001b[0m\n\u001b[0;32m      3\u001b[0m \u001b[0mlow\u001b[0m \u001b[1;33m=\u001b[0m \u001b[0mdf\u001b[0m\u001b[1;33m[\u001b[0m\u001b[1;34m'Low'\u001b[0m\u001b[1;33m]\u001b[0m\u001b[1;33m\u001b[0m\u001b[1;33m\u001b[0m\u001b[0m\n\u001b[1;32m----> 4\u001b[1;33m \u001b[0mdate\u001b[0m\u001b[1;33m=\u001b[0m \u001b[0mdf\u001b[0m\u001b[1;33m[\u001b[0m\u001b[1;34m'Date'\u001b[0m\u001b[1;33m]\u001b[0m\u001b[1;33m\u001b[0m\u001b[1;33m\u001b[0m\u001b[0m\n\u001b[0m",
      "\u001b[1;32m~\\anaconda3\\lib\\site-packages\\pandas\\core\\frame.py\u001b[0m in \u001b[0;36m__getitem__\u001b[1;34m(self, key)\u001b[0m\n\u001b[0;32m   3456\u001b[0m             \u001b[1;32mif\u001b[0m \u001b[0mself\u001b[0m\u001b[1;33m.\u001b[0m\u001b[0mcolumns\u001b[0m\u001b[1;33m.\u001b[0m\u001b[0mnlevels\u001b[0m \u001b[1;33m>\u001b[0m \u001b[1;36m1\u001b[0m\u001b[1;33m:\u001b[0m\u001b[1;33m\u001b[0m\u001b[1;33m\u001b[0m\u001b[0m\n\u001b[0;32m   3457\u001b[0m                 \u001b[1;32mreturn\u001b[0m \u001b[0mself\u001b[0m\u001b[1;33m.\u001b[0m\u001b[0m_getitem_multilevel\u001b[0m\u001b[1;33m(\u001b[0m\u001b[0mkey\u001b[0m\u001b[1;33m)\u001b[0m\u001b[1;33m\u001b[0m\u001b[1;33m\u001b[0m\u001b[0m\n\u001b[1;32m-> 3458\u001b[1;33m             \u001b[0mindexer\u001b[0m \u001b[1;33m=\u001b[0m \u001b[0mself\u001b[0m\u001b[1;33m.\u001b[0m\u001b[0mcolumns\u001b[0m\u001b[1;33m.\u001b[0m\u001b[0mget_loc\u001b[0m\u001b[1;33m(\u001b[0m\u001b[0mkey\u001b[0m\u001b[1;33m)\u001b[0m\u001b[1;33m\u001b[0m\u001b[1;33m\u001b[0m\u001b[0m\n\u001b[0m\u001b[0;32m   3459\u001b[0m             \u001b[1;32mif\u001b[0m \u001b[0mis_integer\u001b[0m\u001b[1;33m(\u001b[0m\u001b[0mindexer\u001b[0m\u001b[1;33m)\u001b[0m\u001b[1;33m:\u001b[0m\u001b[1;33m\u001b[0m\u001b[1;33m\u001b[0m\u001b[0m\n\u001b[0;32m   3460\u001b[0m                 \u001b[0mindexer\u001b[0m \u001b[1;33m=\u001b[0m \u001b[1;33m[\u001b[0m\u001b[0mindexer\u001b[0m\u001b[1;33m]\u001b[0m\u001b[1;33m\u001b[0m\u001b[1;33m\u001b[0m\u001b[0m\n",
      "\u001b[1;32m~\\anaconda3\\lib\\site-packages\\pandas\\core\\indexes\\base.py\u001b[0m in \u001b[0;36mget_loc\u001b[1;34m(self, key, method, tolerance)\u001b[0m\n\u001b[0;32m   3361\u001b[0m                 \u001b[1;32mreturn\u001b[0m \u001b[0mself\u001b[0m\u001b[1;33m.\u001b[0m\u001b[0m_engine\u001b[0m\u001b[1;33m.\u001b[0m\u001b[0mget_loc\u001b[0m\u001b[1;33m(\u001b[0m\u001b[0mcasted_key\u001b[0m\u001b[1;33m)\u001b[0m\u001b[1;33m\u001b[0m\u001b[1;33m\u001b[0m\u001b[0m\n\u001b[0;32m   3362\u001b[0m             \u001b[1;32mexcept\u001b[0m \u001b[0mKeyError\u001b[0m \u001b[1;32mas\u001b[0m \u001b[0merr\u001b[0m\u001b[1;33m:\u001b[0m\u001b[1;33m\u001b[0m\u001b[1;33m\u001b[0m\u001b[0m\n\u001b[1;32m-> 3363\u001b[1;33m                 \u001b[1;32mraise\u001b[0m \u001b[0mKeyError\u001b[0m\u001b[1;33m(\u001b[0m\u001b[0mkey\u001b[0m\u001b[1;33m)\u001b[0m \u001b[1;32mfrom\u001b[0m \u001b[0merr\u001b[0m\u001b[1;33m\u001b[0m\u001b[1;33m\u001b[0m\u001b[0m\n\u001b[0m\u001b[0;32m   3364\u001b[0m \u001b[1;33m\u001b[0m\u001b[0m\n\u001b[0;32m   3365\u001b[0m         \u001b[1;32mif\u001b[0m \u001b[0mis_scalar\u001b[0m\u001b[1;33m(\u001b[0m\u001b[0mkey\u001b[0m\u001b[1;33m)\u001b[0m \u001b[1;32mand\u001b[0m \u001b[0misna\u001b[0m\u001b[1;33m(\u001b[0m\u001b[0mkey\u001b[0m\u001b[1;33m)\u001b[0m \u001b[1;32mand\u001b[0m \u001b[1;32mnot\u001b[0m \u001b[0mself\u001b[0m\u001b[1;33m.\u001b[0m\u001b[0mhasnans\u001b[0m\u001b[1;33m:\u001b[0m\u001b[1;33m\u001b[0m\u001b[1;33m\u001b[0m\u001b[0m\n",
      "\u001b[1;31mKeyError\u001b[0m: 'Date'"
     ]
    }
   ],
   "source": [
    "close =  df['Close']\n",
    "high = df['High']\n",
    "low = df['Low']\n",
    "date= df['Date']"
   ]
  },
  {
   "cell_type": "code",
   "execution_count": 4,
   "id": "8de32aa8",
   "metadata": {},
   "outputs": [
    {
     "name": "stdout",
     "output_type": "stream",
     "text": [
      "195.34695434570312\n"
     ]
    }
   ],
   "source": [
    "cs = -1\n",
    "cr = -1\n",
    "flag = 0\n",
    "\n",
    "\n",
    "buy = []\n",
    "sell = []\n",
    "total = 0 \n",
    "support = []\n",
    "resistance=[]\n",
    "\n",
    "for i in range(0,df.shape[0]):\n",
    "    if i<5 :\n",
    "        continue\n",
    "    \n",
    "    a = low[i-4]\n",
    "    b = low[i-3]\n",
    "    c = low[i-2]\n",
    "    d = low[i-1]\n",
    "    e = low[i]\n",
    "    \n",
    "    a2 = high[i-4]\n",
    "    b2 = high[i-3]\n",
    "    c2 = high[i-2]\n",
    "    d2 = high[i-1]\n",
    "    e2 = high[i]\n",
    "    \n",
    "    \n",
    "    if a2<b2 and b2<c2 and c2>d2 and d2>e2:\n",
    "        cr=c2\n",
    "    elif a>b and b>c and c<d and d<e:\n",
    "        cs=c\n",
    "        \n",
    "    resistance.append(cr) \n",
    "    support.append(cs)\n",
    "    \n",
    "    \n",
    "    if cs ==-1 or cr==-1:\n",
    "        continue\n",
    "    if close[i] > cr and flag==0:\n",
    "        flag =1\n",
    "        bp = close[i]\n",
    "        buy.append(i)\n",
    "        #print(cr)\n",
    "    elif close[i] < cs and flag ==1:\n",
    "        flag = 0\n",
    "        sp = close[i]\n",
    "        sell.append(i)\n",
    "        total += sp-bp\n",
    "if flag==1:\n",
    "    total+= close[-1]-bp\n",
    "print(total)"
   ]
  },
  {
   "cell_type": "code",
   "execution_count": 10,
   "id": "d34d1e99",
   "metadata": {},
   "outputs": [
    {
     "name": "stdout",
     "output_type": "stream",
     "text": [
      "18.989999771118164\n"
     ]
    },
    {
     "data": {
      "text/plain": [
       "4.41331451197121"
      ]
     },
     "execution_count": 10,
     "metadata": {},
     "output_type": "execute_result"
    }
   ],
   "source": [
    "\n",
    "resistance[88]"
   ]
  },
  {
   "cell_type": "code",
   "execution_count": 9,
   "id": "605efb0a",
   "metadata": {},
   "outputs": [
    {
     "data": {
      "application/vnd.plotly.v1+json": {
       "config": {
        "plotlyServerURL": "https://plot.ly"
       },
       "data": [
        {
         "close": [
          3.9916794300079346,
          3.9975504875183105,
          3.9231953620910645,
          3.9926578998565674,
          4.083644390106201,
          4.064076900482178,
          4.164847373962402,
          4.245072841644287,
          4.226484775543213,
          4.299860954284668,
          4.287142753601074,
          4.233332633972168,
          4.194197654724121,
          4.187350273132324,
          4.1981120109558105,
          4.155065059661865,
          4.179523468017578,
          4.2421369552612305,
          4.218657970428467,
          4.259748935699463,
          4.212787628173828,
          4.154085159301758,
          4.089515686035156,
          4.1579999923706055,
          4.103452682495117,
          4.130180835723877,
          4.133152008056641,
          4.299467086791992,
          4.324215888977051,
          4.2222490310668945,
          4.2291789054870605,
          4.262838363647461,
          4.270757675170898,
          4.218288898468018,
          4.136120796203613,
          4.1252312660217285,
          4.162849426269531,
          4.182648658752441,
          4.116322040557861,
          4.0529632568359375
         ],
         "high": [
          4.035705381539857,
          4.017117622502398,
          3.989723395632208,
          4.031791787818628,
          4.097341268380432,
          4.123756470418902,
          4.174630751583477,
          4.250943092941867,
          4.253878538436017,
          4.315514585334407,
          4.294969756628677,
          4.266596644285983,
          4.2460505983236745,
          4.219636097478893,
          4.229419271900133,
          4.226484779566104,
          4.215722418737747,
          4.255833832018189,
          4.236268354030491,
          4.301818143412083,
          4.2558350204612525,
          4.176587224908244,
          4.126693206540696,
          4.184415566519345,
          4.127211907097079,
          4.1965090599899595,
          4.22521985545378,
          4.41331451197121,
          4.3638150863611145,
          4.284617265478441,
          4.241058515433375,
          4.2964975751633405,
          4.293527084632858,
          4.237098311429536,
          4.185619610433513,
          4.139091252133764,
          4.197498816367888,
          4.207398059100089,
          4.156911057734559,
          4.14008128601732
         ],
         "low": [
          3.970155921757204,
          3.9779833525342227,
          3.888953156538439,
          3.9779824586133103,
          4.022986253160406,
          4.042553023269088,
          4.115929739433164,
          4.196155200467079,
          4.20593945337361,
          4.213765796905098,
          4.229419912514668,
          4.223548881990471,
          4.164847150225682,
          4.153108071442333,
          4.168761500472008,
          4.141368178202426,
          4.145280894558398,
          4.180500636643014,
          4.182459014451881,
          4.22941985916812,
          4.1893069948821395,
          4.111037778125686,
          4.072883863279458,
          4.126692728167366,
          4.064843659282379,
          4.105431430673079,
          4.133152008056641,
          4.271747871331029,
          4.306396287918815,
          4.200469431823887,
          4.1945295081451555,
          4.2192791618939625,
          4.246998455578413,
          4.168790085536257,
          4.108401581081584,
          4.073752828189626,
          4.1232506088447245,
          4.1479996493240865,
          4.107412237877804,
          4.0529632568359375
         ],
         "open": [
          4.025922002626978,
          3.9887452954360736,
          3.974069762635001,
          3.9916793380606306,
          4.030813254009647,
          4.114951281850994,
          4.1188646780771,
          4.197133762289334,
          4.233333216266414,
          4.226484488761762,
          4.276380811044144,
          4.260726393096965,
          4.237245409652951,
          4.187350273132324,
          4.222570831894312,
          4.210831147439313,
          4.145280894558398,
          4.2069162017651065,
          4.232354852516253,
          4.255835434235024,
          4.230398009839594,
          4.173652286458848,
          4.121801515919142,
          4.1472380503234865,
          4.091573070194136,
          4.105431430673079,
          4.2172998619526565,
          4.355895705492373,
          4.336095497133896,
          4.273727465856937,
          4.211359301744594,
          4.250958375362318,
          4.2697678650403725,
          4.193539492002137,
          4.185619610433513,
          4.087612436655654,
          4.13117022127132,
          4.148989459173805,
          4.140081262607329,
          4.113351877826009
         ],
         "type": "candlestick",
         "x": [
          "2013-04-24T00:00:00",
          "2013-04-25T00:00:00",
          "2013-04-26T00:00:00",
          "2013-04-29T00:00:00",
          "2013-04-30T00:00:00",
          "2013-05-01T00:00:00",
          "2013-05-02T00:00:00",
          "2013-05-03T00:00:00",
          "2013-05-06T00:00:00",
          "2013-05-07T00:00:00",
          "2013-05-08T00:00:00",
          "2013-05-09T00:00:00",
          "2013-05-10T00:00:00",
          "2013-05-13T00:00:00",
          "2013-05-14T00:00:00",
          "2013-05-15T00:00:00",
          "2013-05-16T00:00:00",
          "2013-05-17T00:00:00",
          "2013-05-20T00:00:00",
          "2013-05-21T00:00:00",
          "2013-05-22T00:00:00",
          "2013-05-23T00:00:00",
          "2013-05-24T00:00:00",
          "2013-05-28T00:00:00",
          "2013-05-29T00:00:00",
          "2013-05-30T00:00:00",
          "2013-05-31T00:00:00",
          "2013-06-03T00:00:00",
          "2013-06-04T00:00:00",
          "2013-06-05T00:00:00",
          "2013-06-06T00:00:00",
          "2013-06-07T00:00:00",
          "2013-06-10T00:00:00",
          "2013-06-11T00:00:00",
          "2013-06-12T00:00:00",
          "2013-06-13T00:00:00",
          "2013-06-14T00:00:00",
          "2013-06-17T00:00:00",
          "2013-06-18T00:00:00",
          "2013-06-19T00:00:00"
         ]
        }
       ],
       "layout": {
        "template": {
         "data": {
          "bar": [
           {
            "error_x": {
             "color": "#2a3f5f"
            },
            "error_y": {
             "color": "#2a3f5f"
            },
            "marker": {
             "line": {
              "color": "#E5ECF6",
              "width": 0.5
             },
             "pattern": {
              "fillmode": "overlay",
              "size": 10,
              "solidity": 0.2
             }
            },
            "type": "bar"
           }
          ],
          "barpolar": [
           {
            "marker": {
             "line": {
              "color": "#E5ECF6",
              "width": 0.5
             },
             "pattern": {
              "fillmode": "overlay",
              "size": 10,
              "solidity": 0.2
             }
            },
            "type": "barpolar"
           }
          ],
          "carpet": [
           {
            "aaxis": {
             "endlinecolor": "#2a3f5f",
             "gridcolor": "white",
             "linecolor": "white",
             "minorgridcolor": "white",
             "startlinecolor": "#2a3f5f"
            },
            "baxis": {
             "endlinecolor": "#2a3f5f",
             "gridcolor": "white",
             "linecolor": "white",
             "minorgridcolor": "white",
             "startlinecolor": "#2a3f5f"
            },
            "type": "carpet"
           }
          ],
          "choropleth": [
           {
            "colorbar": {
             "outlinewidth": 0,
             "ticks": ""
            },
            "type": "choropleth"
           }
          ],
          "contour": [
           {
            "colorbar": {
             "outlinewidth": 0,
             "ticks": ""
            },
            "colorscale": [
             [
              0,
              "#0d0887"
             ],
             [
              0.1111111111111111,
              "#46039f"
             ],
             [
              0.2222222222222222,
              "#7201a8"
             ],
             [
              0.3333333333333333,
              "#9c179e"
             ],
             [
              0.4444444444444444,
              "#bd3786"
             ],
             [
              0.5555555555555556,
              "#d8576b"
             ],
             [
              0.6666666666666666,
              "#ed7953"
             ],
             [
              0.7777777777777778,
              "#fb9f3a"
             ],
             [
              0.8888888888888888,
              "#fdca26"
             ],
             [
              1,
              "#f0f921"
             ]
            ],
            "type": "contour"
           }
          ],
          "contourcarpet": [
           {
            "colorbar": {
             "outlinewidth": 0,
             "ticks": ""
            },
            "type": "contourcarpet"
           }
          ],
          "heatmap": [
           {
            "colorbar": {
             "outlinewidth": 0,
             "ticks": ""
            },
            "colorscale": [
             [
              0,
              "#0d0887"
             ],
             [
              0.1111111111111111,
              "#46039f"
             ],
             [
              0.2222222222222222,
              "#7201a8"
             ],
             [
              0.3333333333333333,
              "#9c179e"
             ],
             [
              0.4444444444444444,
              "#bd3786"
             ],
             [
              0.5555555555555556,
              "#d8576b"
             ],
             [
              0.6666666666666666,
              "#ed7953"
             ],
             [
              0.7777777777777778,
              "#fb9f3a"
             ],
             [
              0.8888888888888888,
              "#fdca26"
             ],
             [
              1,
              "#f0f921"
             ]
            ],
            "type": "heatmap"
           }
          ],
          "heatmapgl": [
           {
            "colorbar": {
             "outlinewidth": 0,
             "ticks": ""
            },
            "colorscale": [
             [
              0,
              "#0d0887"
             ],
             [
              0.1111111111111111,
              "#46039f"
             ],
             [
              0.2222222222222222,
              "#7201a8"
             ],
             [
              0.3333333333333333,
              "#9c179e"
             ],
             [
              0.4444444444444444,
              "#bd3786"
             ],
             [
              0.5555555555555556,
              "#d8576b"
             ],
             [
              0.6666666666666666,
              "#ed7953"
             ],
             [
              0.7777777777777778,
              "#fb9f3a"
             ],
             [
              0.8888888888888888,
              "#fdca26"
             ],
             [
              1,
              "#f0f921"
             ]
            ],
            "type": "heatmapgl"
           }
          ],
          "histogram": [
           {
            "marker": {
             "pattern": {
              "fillmode": "overlay",
              "size": 10,
              "solidity": 0.2
             }
            },
            "type": "histogram"
           }
          ],
          "histogram2d": [
           {
            "colorbar": {
             "outlinewidth": 0,
             "ticks": ""
            },
            "colorscale": [
             [
              0,
              "#0d0887"
             ],
             [
              0.1111111111111111,
              "#46039f"
             ],
             [
              0.2222222222222222,
              "#7201a8"
             ],
             [
              0.3333333333333333,
              "#9c179e"
             ],
             [
              0.4444444444444444,
              "#bd3786"
             ],
             [
              0.5555555555555556,
              "#d8576b"
             ],
             [
              0.6666666666666666,
              "#ed7953"
             ],
             [
              0.7777777777777778,
              "#fb9f3a"
             ],
             [
              0.8888888888888888,
              "#fdca26"
             ],
             [
              1,
              "#f0f921"
             ]
            ],
            "type": "histogram2d"
           }
          ],
          "histogram2dcontour": [
           {
            "colorbar": {
             "outlinewidth": 0,
             "ticks": ""
            },
            "colorscale": [
             [
              0,
              "#0d0887"
             ],
             [
              0.1111111111111111,
              "#46039f"
             ],
             [
              0.2222222222222222,
              "#7201a8"
             ],
             [
              0.3333333333333333,
              "#9c179e"
             ],
             [
              0.4444444444444444,
              "#bd3786"
             ],
             [
              0.5555555555555556,
              "#d8576b"
             ],
             [
              0.6666666666666666,
              "#ed7953"
             ],
             [
              0.7777777777777778,
              "#fb9f3a"
             ],
             [
              0.8888888888888888,
              "#fdca26"
             ],
             [
              1,
              "#f0f921"
             ]
            ],
            "type": "histogram2dcontour"
           }
          ],
          "mesh3d": [
           {
            "colorbar": {
             "outlinewidth": 0,
             "ticks": ""
            },
            "type": "mesh3d"
           }
          ],
          "parcoords": [
           {
            "line": {
             "colorbar": {
              "outlinewidth": 0,
              "ticks": ""
             }
            },
            "type": "parcoords"
           }
          ],
          "pie": [
           {
            "automargin": true,
            "type": "pie"
           }
          ],
          "scatter": [
           {
            "fillpattern": {
             "fillmode": "overlay",
             "size": 10,
             "solidity": 0.2
            },
            "type": "scatter"
           }
          ],
          "scatter3d": [
           {
            "line": {
             "colorbar": {
              "outlinewidth": 0,
              "ticks": ""
             }
            },
            "marker": {
             "colorbar": {
              "outlinewidth": 0,
              "ticks": ""
             }
            },
            "type": "scatter3d"
           }
          ],
          "scattercarpet": [
           {
            "marker": {
             "colorbar": {
              "outlinewidth": 0,
              "ticks": ""
             }
            },
            "type": "scattercarpet"
           }
          ],
          "scattergeo": [
           {
            "marker": {
             "colorbar": {
              "outlinewidth": 0,
              "ticks": ""
             }
            },
            "type": "scattergeo"
           }
          ],
          "scattergl": [
           {
            "marker": {
             "colorbar": {
              "outlinewidth": 0,
              "ticks": ""
             }
            },
            "type": "scattergl"
           }
          ],
          "scattermapbox": [
           {
            "marker": {
             "colorbar": {
              "outlinewidth": 0,
              "ticks": ""
             }
            },
            "type": "scattermapbox"
           }
          ],
          "scatterpolar": [
           {
            "marker": {
             "colorbar": {
              "outlinewidth": 0,
              "ticks": ""
             }
            },
            "type": "scatterpolar"
           }
          ],
          "scatterpolargl": [
           {
            "marker": {
             "colorbar": {
              "outlinewidth": 0,
              "ticks": ""
             }
            },
            "type": "scatterpolargl"
           }
          ],
          "scatterternary": [
           {
            "marker": {
             "colorbar": {
              "outlinewidth": 0,
              "ticks": ""
             }
            },
            "type": "scatterternary"
           }
          ],
          "surface": [
           {
            "colorbar": {
             "outlinewidth": 0,
             "ticks": ""
            },
            "colorscale": [
             [
              0,
              "#0d0887"
             ],
             [
              0.1111111111111111,
              "#46039f"
             ],
             [
              0.2222222222222222,
              "#7201a8"
             ],
             [
              0.3333333333333333,
              "#9c179e"
             ],
             [
              0.4444444444444444,
              "#bd3786"
             ],
             [
              0.5555555555555556,
              "#d8576b"
             ],
             [
              0.6666666666666666,
              "#ed7953"
             ],
             [
              0.7777777777777778,
              "#fb9f3a"
             ],
             [
              0.8888888888888888,
              "#fdca26"
             ],
             [
              1,
              "#f0f921"
             ]
            ],
            "type": "surface"
           }
          ],
          "table": [
           {
            "cells": {
             "fill": {
              "color": "#EBF0F8"
             },
             "line": {
              "color": "white"
             }
            },
            "header": {
             "fill": {
              "color": "#C8D4E3"
             },
             "line": {
              "color": "white"
             }
            },
            "type": "table"
           }
          ]
         },
         "layout": {
          "annotationdefaults": {
           "arrowcolor": "#2a3f5f",
           "arrowhead": 0,
           "arrowwidth": 1
          },
          "autotypenumbers": "strict",
          "coloraxis": {
           "colorbar": {
            "outlinewidth": 0,
            "ticks": ""
           }
          },
          "colorscale": {
           "diverging": [
            [
             0,
             "#8e0152"
            ],
            [
             0.1,
             "#c51b7d"
            ],
            [
             0.2,
             "#de77ae"
            ],
            [
             0.3,
             "#f1b6da"
            ],
            [
             0.4,
             "#fde0ef"
            ],
            [
             0.5,
             "#f7f7f7"
            ],
            [
             0.6,
             "#e6f5d0"
            ],
            [
             0.7,
             "#b8e186"
            ],
            [
             0.8,
             "#7fbc41"
            ],
            [
             0.9,
             "#4d9221"
            ],
            [
             1,
             "#276419"
            ]
           ],
           "sequential": [
            [
             0,
             "#0d0887"
            ],
            [
             0.1111111111111111,
             "#46039f"
            ],
            [
             0.2222222222222222,
             "#7201a8"
            ],
            [
             0.3333333333333333,
             "#9c179e"
            ],
            [
             0.4444444444444444,
             "#bd3786"
            ],
            [
             0.5555555555555556,
             "#d8576b"
            ],
            [
             0.6666666666666666,
             "#ed7953"
            ],
            [
             0.7777777777777778,
             "#fb9f3a"
            ],
            [
             0.8888888888888888,
             "#fdca26"
            ],
            [
             1,
             "#f0f921"
            ]
           ],
           "sequentialminus": [
            [
             0,
             "#0d0887"
            ],
            [
             0.1111111111111111,
             "#46039f"
            ],
            [
             0.2222222222222222,
             "#7201a8"
            ],
            [
             0.3333333333333333,
             "#9c179e"
            ],
            [
             0.4444444444444444,
             "#bd3786"
            ],
            [
             0.5555555555555556,
             "#d8576b"
            ],
            [
             0.6666666666666666,
             "#ed7953"
            ],
            [
             0.7777777777777778,
             "#fb9f3a"
            ],
            [
             0.8888888888888888,
             "#fdca26"
            ],
            [
             1,
             "#f0f921"
            ]
           ]
          },
          "colorway": [
           "#636efa",
           "#EF553B",
           "#00cc96",
           "#ab63fa",
           "#FFA15A",
           "#19d3f3",
           "#FF6692",
           "#B6E880",
           "#FF97FF",
           "#FECB52"
          ],
          "font": {
           "color": "#2a3f5f"
          },
          "geo": {
           "bgcolor": "white",
           "lakecolor": "white",
           "landcolor": "#E5ECF6",
           "showlakes": true,
           "showland": true,
           "subunitcolor": "white"
          },
          "hoverlabel": {
           "align": "left"
          },
          "hovermode": "closest",
          "mapbox": {
           "style": "light"
          },
          "paper_bgcolor": "white",
          "plot_bgcolor": "#E5ECF6",
          "polar": {
           "angularaxis": {
            "gridcolor": "white",
            "linecolor": "white",
            "ticks": ""
           },
           "bgcolor": "#E5ECF6",
           "radialaxis": {
            "gridcolor": "white",
            "linecolor": "white",
            "ticks": ""
           }
          },
          "scene": {
           "xaxis": {
            "backgroundcolor": "#E5ECF6",
            "gridcolor": "white",
            "gridwidth": 2,
            "linecolor": "white",
            "showbackground": true,
            "ticks": "",
            "zerolinecolor": "white"
           },
           "yaxis": {
            "backgroundcolor": "#E5ECF6",
            "gridcolor": "white",
            "gridwidth": 2,
            "linecolor": "white",
            "showbackground": true,
            "ticks": "",
            "zerolinecolor": "white"
           },
           "zaxis": {
            "backgroundcolor": "#E5ECF6",
            "gridcolor": "white",
            "gridwidth": 2,
            "linecolor": "white",
            "showbackground": true,
            "ticks": "",
            "zerolinecolor": "white"
           }
          },
          "shapedefaults": {
           "line": {
            "color": "#2a3f5f"
           }
          },
          "ternary": {
           "aaxis": {
            "gridcolor": "white",
            "linecolor": "white",
            "ticks": ""
           },
           "baxis": {
            "gridcolor": "white",
            "linecolor": "white",
            "ticks": ""
           },
           "bgcolor": "#E5ECF6",
           "caxis": {
            "gridcolor": "white",
            "linecolor": "white",
            "ticks": ""
           }
          },
          "title": {
           "x": 0.05
          },
          "xaxis": {
           "automargin": true,
           "gridcolor": "white",
           "linecolor": "white",
           "ticks": "",
           "title": {
            "standoff": 15
           },
           "zerolinecolor": "white",
           "zerolinewidth": 2
          },
          "yaxis": {
           "automargin": true,
           "gridcolor": "white",
           "linecolor": "white",
           "ticks": "",
           "title": {
            "standoff": 15
           },
           "zerolinecolor": "white",
           "zerolinewidth": 2
          }
         }
        }
       }
      },
      "text/html": [
       "<div>                            <div id=\"c1f04dfa-ce21-4161-9788-7c92223594d9\" class=\"plotly-graph-div\" style=\"height:525px; width:100%;\"></div>            <script type=\"text/javascript\">                require([\"plotly\"], function(Plotly) {                    window.PLOTLYENV=window.PLOTLYENV || {};                                    if (document.getElementById(\"c1f04dfa-ce21-4161-9788-7c92223594d9\")) {                    Plotly.newPlot(                        \"c1f04dfa-ce21-4161-9788-7c92223594d9\",                        [{\"close\":[3.9916794300079346,3.9975504875183105,3.9231953620910645,3.9926578998565674,4.083644390106201,4.064076900482178,4.164847373962402,4.245072841644287,4.226484775543213,4.299860954284668,4.287142753601074,4.233332633972168,4.194197654724121,4.187350273132324,4.1981120109558105,4.155065059661865,4.179523468017578,4.2421369552612305,4.218657970428467,4.259748935699463,4.212787628173828,4.154085159301758,4.089515686035156,4.1579999923706055,4.103452682495117,4.130180835723877,4.133152008056641,4.299467086791992,4.324215888977051,4.2222490310668945,4.2291789054870605,4.262838363647461,4.270757675170898,4.218288898468018,4.136120796203613,4.1252312660217285,4.162849426269531,4.182648658752441,4.116322040557861,4.0529632568359375],\"high\":[4.035705381539857,4.017117622502398,3.989723395632208,4.031791787818628,4.097341268380432,4.123756470418902,4.174630751583477,4.250943092941867,4.253878538436017,4.315514585334407,4.294969756628677,4.266596644285983,4.2460505983236745,4.219636097478893,4.229419271900133,4.226484779566104,4.215722418737747,4.255833832018189,4.236268354030491,4.301818143412083,4.2558350204612525,4.176587224908244,4.126693206540696,4.184415566519345,4.127211907097079,4.1965090599899595,4.22521985545378,4.41331451197121,4.3638150863611145,4.284617265478441,4.241058515433375,4.2964975751633405,4.293527084632858,4.237098311429536,4.185619610433513,4.139091252133764,4.197498816367888,4.207398059100089,4.156911057734559,4.14008128601732],\"low\":[3.970155921757204,3.9779833525342227,3.888953156538439,3.9779824586133103,4.022986253160406,4.042553023269088,4.115929739433164,4.196155200467079,4.20593945337361,4.213765796905098,4.229419912514668,4.223548881990471,4.164847150225682,4.153108071442333,4.168761500472008,4.141368178202426,4.145280894558398,4.180500636643014,4.182459014451881,4.22941985916812,4.1893069948821395,4.111037778125686,4.072883863279458,4.126692728167366,4.064843659282379,4.105431430673079,4.133152008056641,4.271747871331029,4.306396287918815,4.200469431823887,4.1945295081451555,4.2192791618939625,4.246998455578413,4.168790085536257,4.108401581081584,4.073752828189626,4.1232506088447245,4.1479996493240865,4.107412237877804,4.0529632568359375],\"open\":[4.025922002626978,3.9887452954360736,3.974069762635001,3.9916793380606306,4.030813254009647,4.114951281850994,4.1188646780771,4.197133762289334,4.233333216266414,4.226484488761762,4.276380811044144,4.260726393096965,4.237245409652951,4.187350273132324,4.222570831894312,4.210831147439313,4.145280894558398,4.2069162017651065,4.232354852516253,4.255835434235024,4.230398009839594,4.173652286458848,4.121801515919142,4.1472380503234865,4.091573070194136,4.105431430673079,4.2172998619526565,4.355895705492373,4.336095497133896,4.273727465856937,4.211359301744594,4.250958375362318,4.2697678650403725,4.193539492002137,4.185619610433513,4.087612436655654,4.13117022127132,4.148989459173805,4.140081262607329,4.113351877826009],\"x\":[\"2013-04-24T00:00:00\",\"2013-04-25T00:00:00\",\"2013-04-26T00:00:00\",\"2013-04-29T00:00:00\",\"2013-04-30T00:00:00\",\"2013-05-01T00:00:00\",\"2013-05-02T00:00:00\",\"2013-05-03T00:00:00\",\"2013-05-06T00:00:00\",\"2013-05-07T00:00:00\",\"2013-05-08T00:00:00\",\"2013-05-09T00:00:00\",\"2013-05-10T00:00:00\",\"2013-05-13T00:00:00\",\"2013-05-14T00:00:00\",\"2013-05-15T00:00:00\",\"2013-05-16T00:00:00\",\"2013-05-17T00:00:00\",\"2013-05-20T00:00:00\",\"2013-05-21T00:00:00\",\"2013-05-22T00:00:00\",\"2013-05-23T00:00:00\",\"2013-05-24T00:00:00\",\"2013-05-28T00:00:00\",\"2013-05-29T00:00:00\",\"2013-05-30T00:00:00\",\"2013-05-31T00:00:00\",\"2013-06-03T00:00:00\",\"2013-06-04T00:00:00\",\"2013-06-05T00:00:00\",\"2013-06-06T00:00:00\",\"2013-06-07T00:00:00\",\"2013-06-10T00:00:00\",\"2013-06-11T00:00:00\",\"2013-06-12T00:00:00\",\"2013-06-13T00:00:00\",\"2013-06-14T00:00:00\",\"2013-06-17T00:00:00\",\"2013-06-18T00:00:00\",\"2013-06-19T00:00:00\"],\"type\":\"candlestick\"}],                        {\"template\":{\"data\":{\"histogram2dcontour\":[{\"type\":\"histogram2dcontour\",\"colorbar\":{\"outlinewidth\":0,\"ticks\":\"\"},\"colorscale\":[[0.0,\"#0d0887\"],[0.1111111111111111,\"#46039f\"],[0.2222222222222222,\"#7201a8\"],[0.3333333333333333,\"#9c179e\"],[0.4444444444444444,\"#bd3786\"],[0.5555555555555556,\"#d8576b\"],[0.6666666666666666,\"#ed7953\"],[0.7777777777777778,\"#fb9f3a\"],[0.8888888888888888,\"#fdca26\"],[1.0,\"#f0f921\"]]}],\"choropleth\":[{\"type\":\"choropleth\",\"colorbar\":{\"outlinewidth\":0,\"ticks\":\"\"}}],\"histogram2d\":[{\"type\":\"histogram2d\",\"colorbar\":{\"outlinewidth\":0,\"ticks\":\"\"},\"colorscale\":[[0.0,\"#0d0887\"],[0.1111111111111111,\"#46039f\"],[0.2222222222222222,\"#7201a8\"],[0.3333333333333333,\"#9c179e\"],[0.4444444444444444,\"#bd3786\"],[0.5555555555555556,\"#d8576b\"],[0.6666666666666666,\"#ed7953\"],[0.7777777777777778,\"#fb9f3a\"],[0.8888888888888888,\"#fdca26\"],[1.0,\"#f0f921\"]]}],\"heatmap\":[{\"type\":\"heatmap\",\"colorbar\":{\"outlinewidth\":0,\"ticks\":\"\"},\"colorscale\":[[0.0,\"#0d0887\"],[0.1111111111111111,\"#46039f\"],[0.2222222222222222,\"#7201a8\"],[0.3333333333333333,\"#9c179e\"],[0.4444444444444444,\"#bd3786\"],[0.5555555555555556,\"#d8576b\"],[0.6666666666666666,\"#ed7953\"],[0.7777777777777778,\"#fb9f3a\"],[0.8888888888888888,\"#fdca26\"],[1.0,\"#f0f921\"]]}],\"heatmapgl\":[{\"type\":\"heatmapgl\",\"colorbar\":{\"outlinewidth\":0,\"ticks\":\"\"},\"colorscale\":[[0.0,\"#0d0887\"],[0.1111111111111111,\"#46039f\"],[0.2222222222222222,\"#7201a8\"],[0.3333333333333333,\"#9c179e\"],[0.4444444444444444,\"#bd3786\"],[0.5555555555555556,\"#d8576b\"],[0.6666666666666666,\"#ed7953\"],[0.7777777777777778,\"#fb9f3a\"],[0.8888888888888888,\"#fdca26\"],[1.0,\"#f0f921\"]]}],\"contourcarpet\":[{\"type\":\"contourcarpet\",\"colorbar\":{\"outlinewidth\":0,\"ticks\":\"\"}}],\"contour\":[{\"type\":\"contour\",\"colorbar\":{\"outlinewidth\":0,\"ticks\":\"\"},\"colorscale\":[[0.0,\"#0d0887\"],[0.1111111111111111,\"#46039f\"],[0.2222222222222222,\"#7201a8\"],[0.3333333333333333,\"#9c179e\"],[0.4444444444444444,\"#bd3786\"],[0.5555555555555556,\"#d8576b\"],[0.6666666666666666,\"#ed7953\"],[0.7777777777777778,\"#fb9f3a\"],[0.8888888888888888,\"#fdca26\"],[1.0,\"#f0f921\"]]}],\"surface\":[{\"type\":\"surface\",\"colorbar\":{\"outlinewidth\":0,\"ticks\":\"\"},\"colorscale\":[[0.0,\"#0d0887\"],[0.1111111111111111,\"#46039f\"],[0.2222222222222222,\"#7201a8\"],[0.3333333333333333,\"#9c179e\"],[0.4444444444444444,\"#bd3786\"],[0.5555555555555556,\"#d8576b\"],[0.6666666666666666,\"#ed7953\"],[0.7777777777777778,\"#fb9f3a\"],[0.8888888888888888,\"#fdca26\"],[1.0,\"#f0f921\"]]}],\"mesh3d\":[{\"type\":\"mesh3d\",\"colorbar\":{\"outlinewidth\":0,\"ticks\":\"\"}}],\"scatter\":[{\"fillpattern\":{\"fillmode\":\"overlay\",\"size\":10,\"solidity\":0.2},\"type\":\"scatter\"}],\"parcoords\":[{\"type\":\"parcoords\",\"line\":{\"colorbar\":{\"outlinewidth\":0,\"ticks\":\"\"}}}],\"scatterpolargl\":[{\"type\":\"scatterpolargl\",\"marker\":{\"colorbar\":{\"outlinewidth\":0,\"ticks\":\"\"}}}],\"bar\":[{\"error_x\":{\"color\":\"#2a3f5f\"},\"error_y\":{\"color\":\"#2a3f5f\"},\"marker\":{\"line\":{\"color\":\"#E5ECF6\",\"width\":0.5},\"pattern\":{\"fillmode\":\"overlay\",\"size\":10,\"solidity\":0.2}},\"type\":\"bar\"}],\"scattergeo\":[{\"type\":\"scattergeo\",\"marker\":{\"colorbar\":{\"outlinewidth\":0,\"ticks\":\"\"}}}],\"scatterpolar\":[{\"type\":\"scatterpolar\",\"marker\":{\"colorbar\":{\"outlinewidth\":0,\"ticks\":\"\"}}}],\"histogram\":[{\"marker\":{\"pattern\":{\"fillmode\":\"overlay\",\"size\":10,\"solidity\":0.2}},\"type\":\"histogram\"}],\"scattergl\":[{\"type\":\"scattergl\",\"marker\":{\"colorbar\":{\"outlinewidth\":0,\"ticks\":\"\"}}}],\"scatter3d\":[{\"type\":\"scatter3d\",\"line\":{\"colorbar\":{\"outlinewidth\":0,\"ticks\":\"\"}},\"marker\":{\"colorbar\":{\"outlinewidth\":0,\"ticks\":\"\"}}}],\"scattermapbox\":[{\"type\":\"scattermapbox\",\"marker\":{\"colorbar\":{\"outlinewidth\":0,\"ticks\":\"\"}}}],\"scatterternary\":[{\"type\":\"scatterternary\",\"marker\":{\"colorbar\":{\"outlinewidth\":0,\"ticks\":\"\"}}}],\"scattercarpet\":[{\"type\":\"scattercarpet\",\"marker\":{\"colorbar\":{\"outlinewidth\":0,\"ticks\":\"\"}}}],\"carpet\":[{\"aaxis\":{\"endlinecolor\":\"#2a3f5f\",\"gridcolor\":\"white\",\"linecolor\":\"white\",\"minorgridcolor\":\"white\",\"startlinecolor\":\"#2a3f5f\"},\"baxis\":{\"endlinecolor\":\"#2a3f5f\",\"gridcolor\":\"white\",\"linecolor\":\"white\",\"minorgridcolor\":\"white\",\"startlinecolor\":\"#2a3f5f\"},\"type\":\"carpet\"}],\"table\":[{\"cells\":{\"fill\":{\"color\":\"#EBF0F8\"},\"line\":{\"color\":\"white\"}},\"header\":{\"fill\":{\"color\":\"#C8D4E3\"},\"line\":{\"color\":\"white\"}},\"type\":\"table\"}],\"barpolar\":[{\"marker\":{\"line\":{\"color\":\"#E5ECF6\",\"width\":0.5},\"pattern\":{\"fillmode\":\"overlay\",\"size\":10,\"solidity\":0.2}},\"type\":\"barpolar\"}],\"pie\":[{\"automargin\":true,\"type\":\"pie\"}]},\"layout\":{\"autotypenumbers\":\"strict\",\"colorway\":[\"#636efa\",\"#EF553B\",\"#00cc96\",\"#ab63fa\",\"#FFA15A\",\"#19d3f3\",\"#FF6692\",\"#B6E880\",\"#FF97FF\",\"#FECB52\"],\"font\":{\"color\":\"#2a3f5f\"},\"hovermode\":\"closest\",\"hoverlabel\":{\"align\":\"left\"},\"paper_bgcolor\":\"white\",\"plot_bgcolor\":\"#E5ECF6\",\"polar\":{\"bgcolor\":\"#E5ECF6\",\"angularaxis\":{\"gridcolor\":\"white\",\"linecolor\":\"white\",\"ticks\":\"\"},\"radialaxis\":{\"gridcolor\":\"white\",\"linecolor\":\"white\",\"ticks\":\"\"}},\"ternary\":{\"bgcolor\":\"#E5ECF6\",\"aaxis\":{\"gridcolor\":\"white\",\"linecolor\":\"white\",\"ticks\":\"\"},\"baxis\":{\"gridcolor\":\"white\",\"linecolor\":\"white\",\"ticks\":\"\"},\"caxis\":{\"gridcolor\":\"white\",\"linecolor\":\"white\",\"ticks\":\"\"}},\"coloraxis\":{\"colorbar\":{\"outlinewidth\":0,\"ticks\":\"\"}},\"colorscale\":{\"sequential\":[[0.0,\"#0d0887\"],[0.1111111111111111,\"#46039f\"],[0.2222222222222222,\"#7201a8\"],[0.3333333333333333,\"#9c179e\"],[0.4444444444444444,\"#bd3786\"],[0.5555555555555556,\"#d8576b\"],[0.6666666666666666,\"#ed7953\"],[0.7777777777777778,\"#fb9f3a\"],[0.8888888888888888,\"#fdca26\"],[1.0,\"#f0f921\"]],\"sequentialminus\":[[0.0,\"#0d0887\"],[0.1111111111111111,\"#46039f\"],[0.2222222222222222,\"#7201a8\"],[0.3333333333333333,\"#9c179e\"],[0.4444444444444444,\"#bd3786\"],[0.5555555555555556,\"#d8576b\"],[0.6666666666666666,\"#ed7953\"],[0.7777777777777778,\"#fb9f3a\"],[0.8888888888888888,\"#fdca26\"],[1.0,\"#f0f921\"]],\"diverging\":[[0,\"#8e0152\"],[0.1,\"#c51b7d\"],[0.2,\"#de77ae\"],[0.3,\"#f1b6da\"],[0.4,\"#fde0ef\"],[0.5,\"#f7f7f7\"],[0.6,\"#e6f5d0\"],[0.7,\"#b8e186\"],[0.8,\"#7fbc41\"],[0.9,\"#4d9221\"],[1,\"#276419\"]]},\"xaxis\":{\"gridcolor\":\"white\",\"linecolor\":\"white\",\"ticks\":\"\",\"title\":{\"standoff\":15},\"zerolinecolor\":\"white\",\"automargin\":true,\"zerolinewidth\":2},\"yaxis\":{\"gridcolor\":\"white\",\"linecolor\":\"white\",\"ticks\":\"\",\"title\":{\"standoff\":15},\"zerolinecolor\":\"white\",\"automargin\":true,\"zerolinewidth\":2},\"scene\":{\"xaxis\":{\"backgroundcolor\":\"#E5ECF6\",\"gridcolor\":\"white\",\"linecolor\":\"white\",\"showbackground\":true,\"ticks\":\"\",\"zerolinecolor\":\"white\",\"gridwidth\":2},\"yaxis\":{\"backgroundcolor\":\"#E5ECF6\",\"gridcolor\":\"white\",\"linecolor\":\"white\",\"showbackground\":true,\"ticks\":\"\",\"zerolinecolor\":\"white\",\"gridwidth\":2},\"zaxis\":{\"backgroundcolor\":\"#E5ECF6\",\"gridcolor\":\"white\",\"linecolor\":\"white\",\"showbackground\":true,\"ticks\":\"\",\"zerolinecolor\":\"white\",\"gridwidth\":2}},\"shapedefaults\":{\"line\":{\"color\":\"#2a3f5f\"}},\"annotationdefaults\":{\"arrowcolor\":\"#2a3f5f\",\"arrowhead\":0,\"arrowwidth\":1},\"geo\":{\"bgcolor\":\"white\",\"landcolor\":\"#E5ECF6\",\"subunitcolor\":\"white\",\"showland\":true,\"showlakes\":true,\"lakecolor\":\"white\"},\"title\":{\"x\":0.05},\"mapbox\":{\"style\":\"light\"}}}},                        {\"responsive\": true}                    ).then(function(){\n",
       "                            \n",
       "var gd = document.getElementById('c1f04dfa-ce21-4161-9788-7c92223594d9');\n",
       "var x = new MutationObserver(function (mutations, observer) {{\n",
       "        var display = window.getComputedStyle(gd).display;\n",
       "        if (!display || display === 'none') {{\n",
       "            console.log([gd, 'removed!']);\n",
       "            Plotly.purge(gd);\n",
       "            observer.disconnect();\n",
       "        }}\n",
       "}});\n",
       "\n",
       "// Listen for the removal of the full notebook cells\n",
       "var notebookContainer = gd.closest('#notebook-container');\n",
       "if (notebookContainer) {{\n",
       "    x.observe(notebookContainer, {childList: true});\n",
       "}}\n",
       "\n",
       "// Listen for the clearing of the current output cell\n",
       "var outputEl = gd.closest('.output');\n",
       "if (outputEl) {{\n",
       "    x.observe(outputEl, {childList: true});\n",
       "}}\n",
       "\n",
       "                        })                };                });            </script>        </div>"
      ]
     },
     "metadata": {},
     "output_type": "display_data"
    },
    {
     "data": {
      "image/png": "[encoded data removed]",
      "text/plain": [
       "<Figure size 432x288 with 1 Axes>"
      ]
     },
     "metadata": {
      "needs_background": "light"
     },
     "output_type": "display_data"
    }
   ],
   "source": [
    "import plotly.graph_objects as go\n",
    "from plotly.subplots import make_subplots\n",
    "from datetime import datetime\n",
    "\n",
    "dfpl = df[60:100]\n",
    "fig = go.Figure(data=[go.Candlestick(x=dfpl.index,\n",
    "                open=dfpl['Open'],\n",
    "                high=dfpl['High'],\n",
    "                low=dfpl['Low'],\n",
    "                close=dfpl['Close'])])\n",
    "plt.axhline(y = resistance[88], color = 'r', linestyle = '-')\n",
    "fig.show()"
   ]
  },
  {
   "cell_type": "code",
   "execution_count": 27,
   "id": "772e51b6",
   "metadata": {},
   "outputs": [
    {
     "data": {
      "text/plain": [
       "2519"
      ]
     },
     "execution_count": 27,
     "metadata": {},
     "output_type": "execute_result"
    }
   ],
   "source": [
    "df.shape[0]"
   ]
  },
  {
   "cell_type": "code",
   "execution_count": 28,
   "id": "c18e0bbd",
   "metadata": {},
   "outputs": [
    {
     "data": {
      "text/plain": [
       "5.168638229370117"
      ]
     },
     "execution_count": 28,
     "metadata": {},
     "output_type": "execute_result"
    }
   ],
   "source": [
    "close[2]"
   ]
  },
  {
   "cell_type": "code",
   "execution_count": null,
   "id": "4d088559",
   "metadata": {},
   "outputs": [],
   "source": []
  }
 ],
 "metadata": {
  "kernelspec": {
   "display_name": "Python 3 (ipykernel)",
   "language": "python",
   "name": "python3"
  },
  "language_info": {
   "codemirror_mode": {
    "name": "ipython",
    "version": 3
   },
   "file_extension": ".py",
   "mimetype": "text/x-python",
   "name": "python",
   "nbconvert_exporter": "python",
   "pygments_lexer": "ipython3",
   "version": "3.9.7"
  }
 },
 "nbformat": 4,
 "nbformat_minor": 5
}
